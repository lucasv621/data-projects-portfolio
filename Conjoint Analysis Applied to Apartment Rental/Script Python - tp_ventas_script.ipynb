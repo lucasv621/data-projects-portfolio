{
 "cells": [
  {
   "cell_type": "markdown",
   "metadata": {},
   "source": [
    "# Trabajo práctico de ventas y marketing\n",
    "El propósito de esta notebook es procesar el output de Google Forms, hacer una regresión por participante y hacer diversos análisis"
   ]
  },
  {
   "cell_type": "markdown",
   "metadata": {},
   "source": [
    "### Importación de paquetes"
   ]
  },
  {
   "cell_type": "code",
   "execution_count": 856,
   "metadata": {},
   "outputs": [],
   "source": [
    "import pandas as pd\n",
    "import os\n",
    "import statsmodels.formula.api as smf\n",
    "import numpy as np\n",
    "import warnings\n",
    "import seaborn as sns\n",
    "import matplotlib.pyplot as plt\n",
    "\n",
    "# Borro los future warnings\n",
    "warnings.filterwarnings(\"ignore\", category=FutureWarning)"
   ]
  },
  {
   "cell_type": "markdown",
   "metadata": {},
   "source": [
    "### Lectura de datos y procesamiento"
   ]
  },
  {
   "cell_type": "code",
   "execution_count": 857,
   "metadata": {},
   "outputs": [],
   "source": [
    "## Leer excel\n",
    "df = pd.read_excel('Análisis conjunto aplicado a alquileres de inmuebles. (Respuestas).xlsx')"
   ]
  },
  {
   "cell_type": "code",
   "execution_count": 858,
   "metadata": {},
   "outputs": [],
   "source": [
    "# Me creo una columna que identifique a cada participante\n",
    "df['Participante'] = np.arange(1, len(df)+1)"
   ]
  },
  {
   "cell_type": "code",
   "execution_count": 859,
   "metadata": {},
   "outputs": [
    {
     "data": {
      "text/plain": [
       "Index(['Marca temporal', '¿Cuál es tu edad?',\n",
       "       '¿Actualmente tenes un empleo remunerado? Si es asi, ¿Con qué modalidad de trabajo?',\n",
       "       '¿En qué zona residís actualmente?',\n",
       "       'Departamento 1\\nBalcón: Si\\nPrecio: $200.000 mensuales\\nAmbientes: 3\\nZona geográfica: CABA',\n",
       "       'Departamento 2\\nBalcón: Si\\nPrecio: $200.000 mensuales\\nAmbientes: 1\\nZona geográfica: GBA Sur',\n",
       "       'Departamento 3\\nBalcón: Si\\nPrecio: $200.000 mensuales\\nAmbientes: 1\\nZona geográfica: GBA Oeste',\n",
       "       'Departamento 4\\nBalcón: Si\\nPrecio: $150.000 mensuales\\nAmbientes: 3\\nZona geográfica: GBA Sur',\n",
       "       'Departamento 5\\nBalcón: Si\\nPrecio: $150.000 mensuales\\nAmbientes: 2\\nZona geográfica: GBA Oeste',\n",
       "       'Departamento 6\\nBalcón: Si\\nPrecio: $150.000 mensuales\\nAmbientes: 1\\nZona geográfica: CABA',\n",
       "       'Departamento 7\\nBalcón: Si\\nPrecio: $150.000 mensuales\\nAmbientes: 1\\nZona geográfica: GBA Norte',\n",
       "       'Departamento 8\\nBalcón: Si\\nPrecio: $100.000 mensuales\\nAmbientes: 3\\nZona geográfica: GBA Sur',\n",
       "       'Departamento 9\\nBalcón: Si\\nPrecio: $100.000 mensuales\\nAmbientes: 2\\nZona geográfica: CABA',\n",
       "       'Departamento 10\\nBalcón: Si\\nPrecio: $100.000 mensuales\\nAmbientes: 2\\nZona geográfica: GBA Norte',\n",
       "       'Departamento 11\\nBalcón: No\\nPrecio: $200.000 mensuales\\nAmbientes: 3\\nZona geográfica: GBA Norte',\n",
       "       'Departamento 12\\nBalcón: No\\nPrecio: $200.000 mensuales\\nAmbientes: 2\\nZona geográfica: CABA',\n",
       "       'Departamento 13\\nBalcón: No\\nPrecio: $200.000 mensuales\\nAmbientes: 2\\nZona geográfica: GBA Sur',\n",
       "       'Departamento 14\\nBalcón: No\\nPrecio: $150.000 mensuales\\nAmbientes: 3\\nZona geográfica: GBA Oeste',\n",
       "       'Departamento 15\\nBalcón: No\\nPrecio: $150.000 mensuales\\nAmbientes: 2\\nZona geográfica: GBA Sur',\n",
       "       'Departamento 16\\nBalcón: No\\nPrecio: $150.000 mensuales\\nAmbientes: 1\\nZona geográfica: GBA Norte',\n",
       "       'Departamento 17\\nBalcón: No\\nPrecio: $100.000 mensuales\\nAmbientes: 3\\nZona geográfica: CABA',\n",
       "       'Departamento 18\\nBalcón: No\\nPrecio: $100.000 mensuales\\nAmbientes: 1\\nZona geográfica: GBA Sur',\n",
       "       'Departamento 19\\nBalcón: No\\nPrecio: $100.000 mensuales\\nAmbientes: 1\\nZona geográfica: GBA Oeste',\n",
       "       'Participante'],\n",
       "      dtype='object')"
      ]
     },
     "metadata": {},
     "output_type": "display_data"
    }
   ],
   "source": [
    "## Droppeamos y renombramos algunas columnas\n",
    "display(df.columns)\n",
    "df.drop('Marca temporal', axis=1, inplace=True)\n",
    "df.columns.values[0:3] = ['Edad','Modalidad_de_empleo','Zona_de_residencia']"
   ]
  },
  {
   "cell_type": "code",
   "execution_count": 860,
   "metadata": {},
   "outputs": [],
   "source": [
    "## Melteamos para obtener el formato deseado, nos quedamos con var_name Depto que va a separar las variables por \\n\n",
    "df = pd.melt(df, id_vars=['Participante','Edad','Modalidad_de_empleo','Zona_de_residencia'], var_name='Depto', value_name='Rating')"
   ]
  },
  {
   "cell_type": "code",
   "execution_count": 861,
   "metadata": {},
   "outputs": [
    {
     "data": {
      "text/html": [
       "<div>\n",
       "<style scoped>\n",
       "    .dataframe tbody tr th:only-of-type {\n",
       "        vertical-align: middle;\n",
       "    }\n",
       "\n",
       "    .dataframe tbody tr th {\n",
       "        vertical-align: top;\n",
       "    }\n",
       "\n",
       "    .dataframe thead th {\n",
       "        text-align: right;\n",
       "    }\n",
       "</style>\n",
       "<table border=\"1\" class=\"dataframe\">\n",
       "  <thead>\n",
       "    <tr style=\"text-align: right;\">\n",
       "      <th></th>\n",
       "      <th>Participante</th>\n",
       "      <th>Edad</th>\n",
       "      <th>Modalidad_de_empleo</th>\n",
       "      <th>Zona_de_residencia</th>\n",
       "      <th>Depto</th>\n",
       "      <th>Rating</th>\n",
       "    </tr>\n",
       "  </thead>\n",
       "  <tbody>\n",
       "    <tr>\n",
       "      <th>0</th>\n",
       "      <td>1</td>\n",
       "      <td>22</td>\n",
       "      <td>Si, trabajo de manera remota.</td>\n",
       "      <td>CABA</td>\n",
       "      <td>Departamento 1\\nBalcón: Si\\nPrecio: $200.000 m...</td>\n",
       "      <td>6</td>\n",
       "    </tr>\n",
       "    <tr>\n",
       "      <th>1</th>\n",
       "      <td>2</td>\n",
       "      <td>22</td>\n",
       "      <td>Si, trabajo de manera remota.</td>\n",
       "      <td>GBA Oeste (La Matanza, Tres de Febrero, Hurlin...</td>\n",
       "      <td>Departamento 1\\nBalcón: Si\\nPrecio: $200.000 m...</td>\n",
       "      <td>6</td>\n",
       "    </tr>\n",
       "    <tr>\n",
       "      <th>2</th>\n",
       "      <td>3</td>\n",
       "      <td>22</td>\n",
       "      <td>Si, trabajo de manera remota.</td>\n",
       "      <td>CABA</td>\n",
       "      <td>Departamento 1\\nBalcón: Si\\nPrecio: $200.000 m...</td>\n",
       "      <td>4</td>\n",
       "    </tr>\n",
       "    <tr>\n",
       "      <th>3</th>\n",
       "      <td>4</td>\n",
       "      <td>23</td>\n",
       "      <td>Si, trabajo de manera presencial.</td>\n",
       "      <td>CABA</td>\n",
       "      <td>Departamento 1\\nBalcón: Si\\nPrecio: $200.000 m...</td>\n",
       "      <td>9</td>\n",
       "    </tr>\n",
       "    <tr>\n",
       "      <th>4</th>\n",
       "      <td>5</td>\n",
       "      <td>22</td>\n",
       "      <td>Si, trabajo de manera híbrida.</td>\n",
       "      <td>GBA Norte (Vicente López, San Isidro, San Fern...</td>\n",
       "      <td>Departamento 1\\nBalcón: Si\\nPrecio: $200.000 m...</td>\n",
       "      <td>8</td>\n",
       "    </tr>\n",
       "    <tr>\n",
       "      <th>...</th>\n",
       "      <td>...</td>\n",
       "      <td>...</td>\n",
       "      <td>...</td>\n",
       "      <td>...</td>\n",
       "      <td>...</td>\n",
       "      <td>...</td>\n",
       "    </tr>\n",
       "    <tr>\n",
       "      <th>280</th>\n",
       "      <td>11</td>\n",
       "      <td>22</td>\n",
       "      <td>Si, trabajo de manera remota.</td>\n",
       "      <td>CABA</td>\n",
       "      <td>Departamento 19\\nBalcón: No\\nPrecio: $100.000 ...</td>\n",
       "      <td>1</td>\n",
       "    </tr>\n",
       "    <tr>\n",
       "      <th>281</th>\n",
       "      <td>12</td>\n",
       "      <td>23</td>\n",
       "      <td>Si, trabajo de manera presencial.</td>\n",
       "      <td>GBA Oeste (La Matanza, Tres de Febrero, Hurlin...</td>\n",
       "      <td>Departamento 19\\nBalcón: No\\nPrecio: $100.000 ...</td>\n",
       "      <td>5</td>\n",
       "    </tr>\n",
       "    <tr>\n",
       "      <th>282</th>\n",
       "      <td>13</td>\n",
       "      <td>24</td>\n",
       "      <td>Si, trabajo de manera híbrida.</td>\n",
       "      <td>CABA</td>\n",
       "      <td>Departamento 19\\nBalcón: No\\nPrecio: $100.000 ...</td>\n",
       "      <td>7</td>\n",
       "    </tr>\n",
       "    <tr>\n",
       "      <th>283</th>\n",
       "      <td>14</td>\n",
       "      <td>18</td>\n",
       "      <td>Si, trabajo de manera presencial.</td>\n",
       "      <td>CABA</td>\n",
       "      <td>Departamento 19\\nBalcón: No\\nPrecio: $100.000 ...</td>\n",
       "      <td>1</td>\n",
       "    </tr>\n",
       "    <tr>\n",
       "      <th>284</th>\n",
       "      <td>15</td>\n",
       "      <td>25</td>\n",
       "      <td>Si, trabajo de manera presencial.</td>\n",
       "      <td>GBA Sur (Avellaneda, Lanús, Lomas de Zamora, E...</td>\n",
       "      <td>Departamento 19\\nBalcón: No\\nPrecio: $100.000 ...</td>\n",
       "      <td>3</td>\n",
       "    </tr>\n",
       "  </tbody>\n",
       "</table>\n",
       "<p>285 rows × 6 columns</p>\n",
       "</div>"
      ],
      "text/plain": [
       "     Participante  Edad                Modalidad_de_empleo  \\\n",
       "0               1    22      Si, trabajo de manera remota.   \n",
       "1               2    22      Si, trabajo de manera remota.   \n",
       "2               3    22      Si, trabajo de manera remota.   \n",
       "3               4    23  Si, trabajo de manera presencial.   \n",
       "4               5    22     Si, trabajo de manera híbrida.   \n",
       "..            ...   ...                                ...   \n",
       "280            11    22      Si, trabajo de manera remota.   \n",
       "281            12    23  Si, trabajo de manera presencial.   \n",
       "282            13    24     Si, trabajo de manera híbrida.   \n",
       "283            14    18  Si, trabajo de manera presencial.   \n",
       "284            15    25  Si, trabajo de manera presencial.   \n",
       "\n",
       "                                    Zona_de_residencia  \\\n",
       "0                                                 CABA   \n",
       "1    GBA Oeste (La Matanza, Tres de Febrero, Hurlin...   \n",
       "2                                                 CABA   \n",
       "3                                                 CABA   \n",
       "4    GBA Norte (Vicente López, San Isidro, San Fern...   \n",
       "..                                                 ...   \n",
       "280                                               CABA   \n",
       "281  GBA Oeste (La Matanza, Tres de Febrero, Hurlin...   \n",
       "282                                               CABA   \n",
       "283                                               CABA   \n",
       "284  GBA Sur (Avellaneda, Lanús, Lomas de Zamora, E...   \n",
       "\n",
       "                                                 Depto  Rating  \n",
       "0    Departamento 1\\nBalcón: Si\\nPrecio: $200.000 m...       6  \n",
       "1    Departamento 1\\nBalcón: Si\\nPrecio: $200.000 m...       6  \n",
       "2    Departamento 1\\nBalcón: Si\\nPrecio: $200.000 m...       4  \n",
       "3    Departamento 1\\nBalcón: Si\\nPrecio: $200.000 m...       9  \n",
       "4    Departamento 1\\nBalcón: Si\\nPrecio: $200.000 m...       8  \n",
       "..                                                 ...     ...  \n",
       "280  Departamento 19\\nBalcón: No\\nPrecio: $100.000 ...       1  \n",
       "281  Departamento 19\\nBalcón: No\\nPrecio: $100.000 ...       5  \n",
       "282  Departamento 19\\nBalcón: No\\nPrecio: $100.000 ...       7  \n",
       "283  Departamento 19\\nBalcón: No\\nPrecio: $100.000 ...       1  \n",
       "284  Departamento 19\\nBalcón: No\\nPrecio: $100.000 ...       3  \n",
       "\n",
       "[285 rows x 6 columns]"
      ]
     },
     "execution_count": 861,
     "metadata": {},
     "output_type": "execute_result"
    }
   ],
   "source": [
    "df"
   ]
  },
  {
   "cell_type": "code",
   "execution_count": 862,
   "metadata": {},
   "outputs": [],
   "source": [
    "## Separamos depto por los \\n y droppeamos la columna\n",
    "df[['Departamento','Balcon','Precio','Ambientes','Zona']] = df['Depto'].str.split('\\n', expand=True)\n",
    "df.drop(columns=['Depto'], inplace=True)"
   ]
  },
  {
   "cell_type": "code",
   "execution_count": 863,
   "metadata": {},
   "outputs": [],
   "source": [
    "## Renombramos algunos valores de zona\n",
    "df['Zona'] = df['Zona'].str.replace('Zona geográfica','Zona_geográfica', regex=True)\n",
    "df['Zona'] = df['Zona'].str.replace('GBA Oeste','Gba_Oeste', regex=True)\n",
    "df['Zona'] = df['Zona'].str.replace('GBA Norte','Gba_Norte', regex=True)\n",
    "df['Zona'] = df['Zona'].str.replace('GBA Sur','Gba_Sur', regex=True)\n"
   ]
  },
  {
   "cell_type": "code",
   "execution_count": 864,
   "metadata": {},
   "outputs": [],
   "source": [
    "## Separamos estos valores por espacios y nos quedamos con el segundo elemento, que es el que nos interesa\n",
    "# Por ejemplo en ambientes, nos quedamos con el 2 y descartamos la palabra \"Ambientes\"\n",
    "df[['Departamento','Balcon','Precio','Ambientes','Zona']] = df[['Departamento','Balcon','Precio','Ambientes','Zona']].apply(lambda x: x.str.split(' ').str[1])"
   ]
  },
  {
   "cell_type": "code",
   "execution_count": 865,
   "metadata": {},
   "outputs": [
    {
     "data": {
      "text/plain": [
       "Participante            int32\n",
       "Edad                    int64\n",
       "Modalidad_de_empleo    object\n",
       "Zona_de_residencia     object\n",
       "Rating                  int64\n",
       "Departamento           object\n",
       "Balcon                 object\n",
       "Precio                 object\n",
       "Ambientes              object\n",
       "Zona                   object\n",
       "dtype: object"
      ]
     },
     "execution_count": 865,
     "metadata": {},
     "output_type": "execute_result"
    }
   ],
   "source": [
    "df.dtypes"
   ]
  },
  {
   "cell_type": "markdown",
   "metadata": {},
   "source": [
    "### Punto 1\n",
    "Realice una regresión lineal utilizando R o Excel para estimar los valores parciales de cada\n",
    "uno de sus encuestados."
   ]
  },
  {
   "cell_type": "code",
   "execution_count": 866,
   "metadata": {},
   "outputs": [],
   "source": [
    "r_squared = [] # Me voy a guardar el rsquared de cada modelo\n",
    "df_results = pd.DataFrame(columns=['Participante','Variable','p_value','coefficient']) # Me creo un dataframe vacio para guardar los resultados\n",
    "for participante in df['Participante'].unique():\n",
    "    # Para cada participante:\n",
    "    ## Me quedo con el df del participante\n",
    "    df_participante = df[df['Participante'] == participante]\n",
    "    ## Planteo la regresión y la fitteo\n",
    "    modelo = smf.ols(formula=\"Rating ~ Balcon + Precio + Ambientes + Zona\", data=df_participante).fit()\n",
    "    ## Appendeo el rsquared\n",
    "    r_squared.append(modelo.rsquared_adj)\n",
    "    ## Appendeo results al df vacio\n",
    "    df_results = df_results.append(pd.DataFrame({'Participante':participante,'Variable':modelo.params.index,'p_value':modelo.pvalues.values,'coefficient':modelo.params.values}), ignore_index=True)\n"
   ]
  },
  {
   "cell_type": "code",
   "execution_count": 867,
   "metadata": {},
   "outputs": [
    {
     "data": {
      "text/html": [
       "<div>\n",
       "<style scoped>\n",
       "    .dataframe tbody tr th:only-of-type {\n",
       "        vertical-align: middle;\n",
       "    }\n",
       "\n",
       "    .dataframe tbody tr th {\n",
       "        vertical-align: top;\n",
       "    }\n",
       "\n",
       "    .dataframe thead th {\n",
       "        text-align: right;\n",
       "    }\n",
       "</style>\n",
       "<table border=\"1\" class=\"dataframe\">\n",
       "  <thead>\n",
       "    <tr style=\"text-align: right;\">\n",
       "      <th></th>\n",
       "      <th>Participante</th>\n",
       "      <th>Variable</th>\n",
       "      <th>p_value</th>\n",
       "      <th>coefficient</th>\n",
       "    </tr>\n",
       "  </thead>\n",
       "  <tbody>\n",
       "    <tr>\n",
       "      <th>0</th>\n",
       "      <td>1</td>\n",
       "      <td>Intercept</td>\n",
       "      <td>0.003770</td>\n",
       "      <td>3.520270</td>\n",
       "    </tr>\n",
       "    <tr>\n",
       "      <th>1</th>\n",
       "      <td>1</td>\n",
       "      <td>Balcon[T.Si]</td>\n",
       "      <td>0.026321</td>\n",
       "      <td>1.540541</td>\n",
       "    </tr>\n",
       "    <tr>\n",
       "      <th>2</th>\n",
       "      <td>1</td>\n",
       "      <td>Precio[T.$150.000]</td>\n",
       "      <td>0.920709</td>\n",
       "      <td>0.074324</td>\n",
       "    </tr>\n",
       "    <tr>\n",
       "      <th>3</th>\n",
       "      <td>1</td>\n",
       "      <td>Precio[T.$200.000]</td>\n",
       "      <td>0.002201</td>\n",
       "      <td>-3.000000</td>\n",
       "    </tr>\n",
       "    <tr>\n",
       "      <th>4</th>\n",
       "      <td>1</td>\n",
       "      <td>Ambientes[T.2]</td>\n",
       "      <td>0.016561</td>\n",
       "      <td>2.092342</td>\n",
       "    </tr>\n",
       "    <tr>\n",
       "      <th>...</th>\n",
       "      <td>...</td>\n",
       "      <td>...</td>\n",
       "      <td>...</td>\n",
       "      <td>...</td>\n",
       "    </tr>\n",
       "    <tr>\n",
       "      <th>130</th>\n",
       "      <td>15</td>\n",
       "      <td>Ambientes[T.2]</td>\n",
       "      <td>0.003149</td>\n",
       "      <td>1.965090</td>\n",
       "    </tr>\n",
       "    <tr>\n",
       "      <th>131</th>\n",
       "      <td>15</td>\n",
       "      <td>Ambientes[T.3]</td>\n",
       "      <td>0.005405</td>\n",
       "      <td>1.798423</td>\n",
       "    </tr>\n",
       "    <tr>\n",
       "      <th>132</th>\n",
       "      <td>15</td>\n",
       "      <td>Zona[T.Gba_Norte]</td>\n",
       "      <td>0.111519</td>\n",
       "      <td>1.094595</td>\n",
       "    </tr>\n",
       "    <tr>\n",
       "      <th>133</th>\n",
       "      <td>15</td>\n",
       "      <td>Zona[T.Gba_Oeste]</td>\n",
       "      <td>0.594749</td>\n",
       "      <td>0.344595</td>\n",
       "    </tr>\n",
       "    <tr>\n",
       "      <th>134</th>\n",
       "      <td>15</td>\n",
       "      <td>Zona[T.Gba_Sur]</td>\n",
       "      <td>0.754682</td>\n",
       "      <td>0.175676</td>\n",
       "    </tr>\n",
       "  </tbody>\n",
       "</table>\n",
       "<p>135 rows × 4 columns</p>\n",
       "</div>"
      ],
      "text/plain": [
       "    Participante            Variable   p_value  coefficient\n",
       "0              1           Intercept  0.003770     3.520270\n",
       "1              1        Balcon[T.Si]  0.026321     1.540541\n",
       "2              1  Precio[T.$150.000]  0.920709     0.074324\n",
       "3              1  Precio[T.$200.000]  0.002201    -3.000000\n",
       "4              1      Ambientes[T.2]  0.016561     2.092342\n",
       "..           ...                 ...       ...          ...\n",
       "130           15      Ambientes[T.2]  0.003149     1.965090\n",
       "131           15      Ambientes[T.3]  0.005405     1.798423\n",
       "132           15   Zona[T.Gba_Norte]  0.111519     1.094595\n",
       "133           15   Zona[T.Gba_Oeste]  0.594749     0.344595\n",
       "134           15     Zona[T.Gba_Sur]  0.754682     0.175676\n",
       "\n",
       "[135 rows x 4 columns]"
      ]
     },
     "execution_count": 867,
     "metadata": {},
     "output_type": "execute_result"
    }
   ],
   "source": [
    "df_results"
   ]
  },
  {
   "cell_type": "code",
   "execution_count": 868,
   "metadata": {},
   "outputs": [
    {
     "name": "stdout",
     "output_type": "stream",
     "text": [
      "Porcentaje de P_values menores a 0.05: 57.03703703703704%\n"
     ]
    }
   ],
   "source": [
    "print(f'Porcentaje de P_values menores a 0.05: {df_results[df_results[\"p_value\"] < 0.05].shape[0] / df_results.shape[0] * 100}%')"
   ]
  },
  {
   "cell_type": "code",
   "execution_count": 869,
   "metadata": {},
   "outputs": [
    {
     "name": "stdout",
     "output_type": "stream",
     "text": [
      "R-squared promedio: 0.7245107142283437\n"
     ]
    }
   ],
   "source": [
    "print(f'R-squared promedio: {np.mean(r_squared)}')"
   ]
  },
  {
   "cell_type": "code",
   "execution_count": 870,
   "metadata": {},
   "outputs": [],
   "source": [
    "## Cuadro de mean de coefficient\n",
    "pd.DataFrame(df_results.groupby('Variable')['coefficient'].mean()).to_excel('mean_coefficient.xlsx')"
   ]
  },
  {
   "cell_type": "markdown",
   "metadata": {},
   "source": [
    "### Punto 2\n",
    "Determinar importancia de cada atributo para cada participante"
   ]
  },
  {
   "cell_type": "code",
   "execution_count": 871,
   "metadata": {},
   "outputs": [
    {
     "name": "stdout",
     "output_type": "stream",
     "text": [
      "participante: 1\n",
      "Rango de Balcon: 1.54\n",
      "Rango de Precio: 3.07\n",
      "Rango de Ambientes: 4.26\n",
      "Rango de Zona: 1.93\n",
      "Suma del rangos del participante: 10.81\n",
      "\n",
      "\n",
      "----------------------------------------\n",
      "participante: 2\n",
      "Rango de Balcon: 0.93\n",
      "Rango de Precio: 3.17\n",
      "Rango de Ambientes: 3.36\n",
      "Rango de Zona: 1.25\n",
      "Suma del rangos del participante: 8.7\n",
      "\n",
      "\n",
      "----------------------------------------\n",
      "participante: 3\n",
      "Rango de Balcon: 0.62\n",
      "Rango de Precio: 2.17\n",
      "Rango de Ambientes: 2.81\n",
      "Rango de Zona: 1.0\n",
      "Suma del rangos del participante: 6.59\n",
      "\n",
      "\n",
      "----------------------------------------\n",
      "participante: 4\n",
      "Rango de Balcon: 1.32\n",
      "Rango de Precio: 1.5\n",
      "Rango de Ambientes: 3.28\n",
      "Rango de Zona: 1.72\n",
      "Suma del rangos del participante: 7.82\n",
      "\n",
      "\n",
      "----------------------------------------\n",
      "participante: 5\n",
      "Rango de Balcon: 1.55\n",
      "Rango de Precio: 3.17\n",
      "Rango de Ambientes: 4.01\n",
      "Rango de Zona: 2.5\n",
      "Suma del rangos del participante: 11.23\n",
      "\n",
      "\n",
      "----------------------------------------\n",
      "participante: 6\n",
      "Rango de Balcon: 1.36\n",
      "Rango de Precio: 0.33\n",
      "Rango de Ambientes: 2.27\n",
      "Rango de Zona: 1.08\n",
      "Suma del rangos del participante: 5.04\n",
      "\n",
      "\n",
      "----------------------------------------\n",
      "participante: 7\n",
      "Rango de Balcon: 0.4\n",
      "Rango de Precio: 3.51\n",
      "Rango de Ambientes: 3.51\n",
      "Rango de Zona: 3.36\n",
      "Suma del rangos del participante: 10.78\n",
      "\n",
      "\n",
      "----------------------------------------\n",
      "participante: 8\n",
      "Rango de Balcon: 0.36\n",
      "Rango de Precio: 3.83\n",
      "Rango de Ambientes: 3.35\n",
      "Rango de Zona: 2.3\n",
      "Suma del rangos del participante: 9.85\n",
      "\n",
      "\n",
      "----------------------------------------\n",
      "participante: 9\n",
      "Rango de Balcon: 0.18\n",
      "Rango de Precio: 4.33\n",
      "Rango de Ambientes: 2.43\n",
      "Rango de Zona: 1.91\n",
      "Suma del rangos del participante: 8.86\n",
      "\n",
      "\n",
      "----------------------------------------\n",
      "participante: 10\n",
      "Rango de Balcon: 1.45\n",
      "Rango de Precio: 3.67\n",
      "Rango de Ambientes: 2.2\n",
      "Rango de Zona: 1.26\n",
      "Suma del rangos del participante: 8.57\n",
      "\n",
      "\n",
      "----------------------------------------\n",
      "participante: 11\n",
      "Rango de Balcon: 1.24\n",
      "Rango de Precio: 1.67\n",
      "Rango de Ambientes: 5.14\n",
      "Rango de Zona: 1.37\n",
      "Suma del rangos del participante: 9.42\n",
      "\n",
      "\n",
      "----------------------------------------\n",
      "participante: 12\n",
      "Rango de Balcon: 0.32\n",
      "Rango de Precio: 2.5\n",
      "Rango de Ambientes: 2.95\n",
      "Rango de Zona: 2.25\n",
      "Suma del rangos del participante: 8.02\n",
      "\n",
      "\n",
      "----------------------------------------\n",
      "participante: 13\n",
      "Rango de Balcon: 0.15\n",
      "Rango de Precio: 1.5\n",
      "Rango de Ambientes: 0.71\n",
      "Rango de Zona: 2.71\n",
      "Suma del rangos del participante: 5.07\n",
      "\n",
      "\n",
      "----------------------------------------\n",
      "participante: 14\n",
      "Rango de Balcon: 0.18\n",
      "Rango de Precio: 1.8\n",
      "Rango de Ambientes: 4.7\n",
      "Rango de Zona: 5.0\n",
      "Suma del rangos del participante: 11.68\n",
      "\n",
      "\n",
      "----------------------------------------\n",
      "participante: 15\n",
      "Rango de Balcon: 3.41\n",
      "Rango de Precio: 1.63\n",
      "Rango de Ambientes: 1.97\n",
      "Rango de Zona: 1.09\n",
      "Suma del rangos del participante: 8.1\n",
      "\n",
      "\n",
      "----------------------------------------\n"
     ]
    }
   ],
   "source": [
    "# Esta lista me viene bien para iterar despues\n",
    "variables = ['Balcon','Precio','Ambientes','Zona']\n",
    "\n",
    "var_importance = pd.DataFrame(columns=['Participante','Variable','Range']) #Abro df para appendear despues\n",
    "for participante in range(1,16):\n",
    "    #Para cada participante:\n",
    "    print(f'participante: {participante}')\n",
    "    df_participante = df_results[df_results['Participante'] == participante] # Subsetting\n",
    "    all_pw = [] \n",
    "    for variable in variables:\n",
    "        # Para cada variable\n",
    "        df_variable = df_participante[df_participante['Variable'].str.contains(variable)] #Subsetteo si contiene \"Precio\", \"Zona\", etc.\n",
    "        if df_variable.shape[0] == 1: # Si solo hay un valor, el rango es el mismo\n",
    "            pw_range = abs(df_variable['coefficient'].values[0])\n",
    "        else: # Si hay mas de un valor, tenemos diferentes casos\n",
    "            if df_variable['coefficient'].min() > 0:\n",
    "                # Si el minimo del coeficiente es mayor a 0, el rango es el maximo\n",
    "                pw_range = df_variable['coefficient'].max()\n",
    "            elif df_variable['coefficient'].max() < 0:\n",
    "                # Si el maximo del coeficiente es menor a 0, el rango es modulo del minimo\n",
    "                pw_range = abs(df_variable['coefficient'].min())\n",
    "            else:\n",
    "                # Si el maximo es mayor a 0 y el minimo es menor a 0, el rango es la diferencia absoluta entre ambos\n",
    "                pw_range = abs(df_variable['coefficient'].max() - df_variable['coefficient'].min())\n",
    "        print(f'Rango de {variable}: {round(pw_range,2)}')\n",
    "        var_importance = var_importance.append({'Participante': participante, 'Variable': variable, 'Range': pw_range}, ignore_index=True)\n",
    "        all_pw.append(pw_range) # Appendeo los rangos de cada variable\n",
    "    # Los sumo para obtener el denominador de la division, hago esto por participante\n",
    "    sum_of_ranges = np.array(all_pw).sum() \n",
    "    print(f'Suma del rangos del participante: {round(sum_of_ranges,2)}')\n",
    "    var_importance.loc[var_importance['Participante'] == participante,'Sum_of_ranges'] = sum_of_ranges \n",
    "\n",
    "    print('\\n')\n",
    "    print('----------------------------------------')        "
   ]
  },
  {
   "cell_type": "code",
   "execution_count": 872,
   "metadata": {},
   "outputs": [
    {
     "data": {
      "text/html": [
       "<div>\n",
       "<style scoped>\n",
       "    .dataframe tbody tr th:only-of-type {\n",
       "        vertical-align: middle;\n",
       "    }\n",
       "\n",
       "    .dataframe tbody tr th {\n",
       "        vertical-align: top;\n",
       "    }\n",
       "\n",
       "    .dataframe thead th {\n",
       "        text-align: right;\n",
       "    }\n",
       "</style>\n",
       "<table border=\"1\" class=\"dataframe\">\n",
       "  <thead>\n",
       "    <tr style=\"text-align: right;\">\n",
       "      <th></th>\n",
       "      <th>Participante</th>\n",
       "      <th>Variable</th>\n",
       "      <th>Range</th>\n",
       "      <th>Sum_of_ranges</th>\n",
       "    </tr>\n",
       "  </thead>\n",
       "  <tbody>\n",
       "    <tr>\n",
       "      <th>0</th>\n",
       "      <td>1</td>\n",
       "      <td>Balcon</td>\n",
       "      <td>1.540541</td>\n",
       "      <td>10.806306</td>\n",
       "    </tr>\n",
       "    <tr>\n",
       "      <th>1</th>\n",
       "      <td>1</td>\n",
       "      <td>Precio</td>\n",
       "      <td>3.074324</td>\n",
       "      <td>10.806306</td>\n",
       "    </tr>\n",
       "    <tr>\n",
       "      <th>2</th>\n",
       "      <td>1</td>\n",
       "      <td>Ambientes</td>\n",
       "      <td>4.259009</td>\n",
       "      <td>10.806306</td>\n",
       "    </tr>\n",
       "    <tr>\n",
       "      <th>3</th>\n",
       "      <td>1</td>\n",
       "      <td>Zona</td>\n",
       "      <td>1.932432</td>\n",
       "      <td>10.806306</td>\n",
       "    </tr>\n",
       "    <tr>\n",
       "      <th>4</th>\n",
       "      <td>2</td>\n",
       "      <td>Balcon</td>\n",
       "      <td>0.925676</td>\n",
       "      <td>8.697354</td>\n",
       "    </tr>\n",
       "    <tr>\n",
       "      <th>5</th>\n",
       "      <td>2</td>\n",
       "      <td>Precio</td>\n",
       "      <td>3.166667</td>\n",
       "      <td>8.697354</td>\n",
       "    </tr>\n",
       "  </tbody>\n",
       "</table>\n",
       "</div>"
      ],
      "text/plain": [
       "  Participante   Variable     Range  Sum_of_ranges\n",
       "0            1     Balcon  1.540541      10.806306\n",
       "1            1     Precio  3.074324      10.806306\n",
       "2            1  Ambientes  4.259009      10.806306\n",
       "3            1       Zona  1.932432      10.806306\n",
       "4            2     Balcon  0.925676       8.697354\n",
       "5            2     Precio  3.166667       8.697354"
      ]
     },
     "execution_count": 872,
     "metadata": {},
     "output_type": "execute_result"
    }
   ],
   "source": [
    "var_importance.head(6)"
   ]
  },
  {
   "cell_type": "code",
   "execution_count": 873,
   "metadata": {},
   "outputs": [],
   "source": [
    "# Calculo la importancia de cada variable haciendo la division del rango de cada var / la importancia total de cada participante\n",
    "var_importance['Var importance'] = var_importance['Range'] / var_importance['Sum_of_ranges']"
   ]
  },
  {
   "cell_type": "code",
   "execution_count": 874,
   "metadata": {},
   "outputs": [
    {
     "data": {
      "text/html": [
       "<div>\n",
       "<style scoped>\n",
       "    .dataframe tbody tr th:only-of-type {\n",
       "        vertical-align: middle;\n",
       "    }\n",
       "\n",
       "    .dataframe tbody tr th {\n",
       "        vertical-align: top;\n",
       "    }\n",
       "\n",
       "    .dataframe thead th {\n",
       "        text-align: right;\n",
       "    }\n",
       "</style>\n",
       "<table border=\"1\" class=\"dataframe\">\n",
       "  <thead>\n",
       "    <tr style=\"text-align: right;\">\n",
       "      <th></th>\n",
       "      <th>Participante</th>\n",
       "      <th>Variable</th>\n",
       "      <th>Range</th>\n",
       "      <th>Sum_of_ranges</th>\n",
       "      <th>Var importance</th>\n",
       "    </tr>\n",
       "  </thead>\n",
       "  <tbody>\n",
       "    <tr>\n",
       "      <th>0</th>\n",
       "      <td>1</td>\n",
       "      <td>Balcon</td>\n",
       "      <td>1.540541</td>\n",
       "      <td>10.806306</td>\n",
       "      <td>0.142559</td>\n",
       "    </tr>\n",
       "    <tr>\n",
       "      <th>1</th>\n",
       "      <td>1</td>\n",
       "      <td>Precio</td>\n",
       "      <td>3.074324</td>\n",
       "      <td>10.806306</td>\n",
       "      <td>0.284494</td>\n",
       "    </tr>\n",
       "    <tr>\n",
       "      <th>2</th>\n",
       "      <td>1</td>\n",
       "      <td>Ambientes</td>\n",
       "      <td>4.259009</td>\n",
       "      <td>10.806306</td>\n",
       "      <td>0.394123</td>\n",
       "    </tr>\n",
       "    <tr>\n",
       "      <th>3</th>\n",
       "      <td>1</td>\n",
       "      <td>Zona</td>\n",
       "      <td>1.932432</td>\n",
       "      <td>10.806306</td>\n",
       "      <td>0.178825</td>\n",
       "    </tr>\n",
       "    <tr>\n",
       "      <th>4</th>\n",
       "      <td>2</td>\n",
       "      <td>Balcon</td>\n",
       "      <td>0.925676</td>\n",
       "      <td>8.697354</td>\n",
       "      <td>0.106432</td>\n",
       "    </tr>\n",
       "    <tr>\n",
       "      <th>5</th>\n",
       "      <td>2</td>\n",
       "      <td>Precio</td>\n",
       "      <td>3.166667</td>\n",
       "      <td>8.697354</td>\n",
       "      <td>0.364095</td>\n",
       "    </tr>\n",
       "  </tbody>\n",
       "</table>\n",
       "</div>"
      ],
      "text/plain": [
       "  Participante   Variable     Range  Sum_of_ranges  Var importance\n",
       "0            1     Balcon  1.540541      10.806306        0.142559\n",
       "1            1     Precio  3.074324      10.806306        0.284494\n",
       "2            1  Ambientes  4.259009      10.806306        0.394123\n",
       "3            1       Zona  1.932432      10.806306        0.178825\n",
       "4            2     Balcon  0.925676       8.697354        0.106432\n",
       "5            2     Precio  3.166667       8.697354        0.364095"
      ]
     },
     "execution_count": 874,
     "metadata": {},
     "output_type": "execute_result"
    }
   ],
   "source": [
    "var_importance.head(6)"
   ]
  },
  {
   "cell_type": "code",
   "execution_count": 875,
   "metadata": {},
   "outputs": [],
   "source": [
    "## Pivoteo el df para despues ver la importancia por variables\n",
    "var_importance = var_importance.pivot(index='Participante', columns='Variable', values='Var importance')"
   ]
  },
  {
   "cell_type": "code",
   "execution_count": 876,
   "metadata": {},
   "outputs": [
    {
     "data": {
      "text/html": [
       "<style type=\"text/css\">\n",
       "#T_2bbe2_row0_col0, #T_2bbe2_row1_col0, #T_2bbe2_row2_col0, #T_2bbe2_row3_col0, #T_2bbe2_row4_col0, #T_2bbe2_row5_col0, #T_2bbe2_row6_col0, #T_2bbe2_row7_col2, #T_2bbe2_row8_col2, #T_2bbe2_row9_col2, #T_2bbe2_row10_col0, #T_2bbe2_row11_col0, #T_2bbe2_row12_col3, #T_2bbe2_row13_col3, #T_2bbe2_row14_col1 {\n",
       "  background-color: green;\n",
       "}\n",
       "#T_2bbe2_row0_col1, #T_2bbe2_row1_col1, #T_2bbe2_row2_col1, #T_2bbe2_row3_col1, #T_2bbe2_row4_col1, #T_2bbe2_row5_col2, #T_2bbe2_row6_col1, #T_2bbe2_row7_col1, #T_2bbe2_row8_col1, #T_2bbe2_row9_col3, #T_2bbe2_row10_col1, #T_2bbe2_row11_col1, #T_2bbe2_row12_col1, #T_2bbe2_row13_col1, #T_2bbe2_row14_col3 {\n",
       "  background-color: red;\n",
       "}\n",
       "</style>\n",
       "<table id=\"T_2bbe2\">\n",
       "  <thead>\n",
       "    <tr>\n",
       "      <th class=\"index_name level0\" >Variable</th>\n",
       "      <th id=\"T_2bbe2_level0_col0\" class=\"col_heading level0 col0\" >Ambientes</th>\n",
       "      <th id=\"T_2bbe2_level0_col1\" class=\"col_heading level0 col1\" >Balcon</th>\n",
       "      <th id=\"T_2bbe2_level0_col2\" class=\"col_heading level0 col2\" >Precio</th>\n",
       "      <th id=\"T_2bbe2_level0_col3\" class=\"col_heading level0 col3\" >Zona</th>\n",
       "    </tr>\n",
       "    <tr>\n",
       "      <th class=\"index_name level0\" >Participante</th>\n",
       "      <th class=\"blank col0\" >&nbsp;</th>\n",
       "      <th class=\"blank col1\" >&nbsp;</th>\n",
       "      <th class=\"blank col2\" >&nbsp;</th>\n",
       "      <th class=\"blank col3\" >&nbsp;</th>\n",
       "    </tr>\n",
       "  </thead>\n",
       "  <tbody>\n",
       "    <tr>\n",
       "      <th id=\"T_2bbe2_level0_row0\" class=\"row_heading level0 row0\" >1</th>\n",
       "      <td id=\"T_2bbe2_row0_col0\" class=\"data row0 col0\" >0.394123</td>\n",
       "      <td id=\"T_2bbe2_row0_col1\" class=\"data row0 col1\" >0.142559</td>\n",
       "      <td id=\"T_2bbe2_row0_col2\" class=\"data row0 col2\" >0.284494</td>\n",
       "      <td id=\"T_2bbe2_row0_col3\" class=\"data row0 col3\" >0.178825</td>\n",
       "    </tr>\n",
       "    <tr>\n",
       "      <th id=\"T_2bbe2_level0_row1\" class=\"row_heading level0 row1\" >2</th>\n",
       "      <td id=\"T_2bbe2_row1_col0\" class=\"data row1 col0\" >0.385751</td>\n",
       "      <td id=\"T_2bbe2_row1_col1\" class=\"data row1 col1\" >0.106432</td>\n",
       "      <td id=\"T_2bbe2_row1_col2\" class=\"data row1 col2\" >0.364095</td>\n",
       "      <td id=\"T_2bbe2_row1_col3\" class=\"data row1 col3\" >0.143722</td>\n",
       "    </tr>\n",
       "    <tr>\n",
       "      <th id=\"T_2bbe2_level0_row2\" class=\"row_heading level0 row2\" >3</th>\n",
       "      <td id=\"T_2bbe2_row2_col0\" class=\"data row2 col0\" >0.425546</td>\n",
       "      <td id=\"T_2bbe2_row2_col1\" class=\"data row2 col1\" >0.094262</td>\n",
       "      <td id=\"T_2bbe2_row2_col2\" class=\"data row2 col2\" >0.328552</td>\n",
       "      <td id=\"T_2bbe2_row2_col3\" class=\"data row2 col3\" >0.151639</td>\n",
       "    </tr>\n",
       "    <tr>\n",
       "      <th id=\"T_2bbe2_level0_row3\" class=\"row_heading level0 row3\" >4</th>\n",
       "      <td id=\"T_2bbe2_row3_col0\" class=\"data row3 col0\" >0.419539</td>\n",
       "      <td id=\"T_2bbe2_row3_col1\" class=\"data row3 col1\" >0.168406</td>\n",
       "      <td id=\"T_2bbe2_row3_col2\" class=\"data row3 col2\" >0.191724</td>\n",
       "      <td id=\"T_2bbe2_row3_col3\" class=\"data row3 col3\" >0.220331</td>\n",
       "    </tr>\n",
       "    <tr>\n",
       "      <th id=\"T_2bbe2_level0_row4\" class=\"row_heading level0 row4\" >5</th>\n",
       "      <td id=\"T_2bbe2_row4_col0\" class=\"data row4 col0\" >0.356774</td>\n",
       "      <td id=\"T_2bbe2_row4_col1\" class=\"data row4 col1\" >0.138436</td>\n",
       "      <td id=\"T_2bbe2_row4_col2\" class=\"data row4 col2\" >0.282089</td>\n",
       "      <td id=\"T_2bbe2_row4_col3\" class=\"data row4 col3\" >0.222702</td>\n",
       "    </tr>\n",
       "    <tr>\n",
       "      <th id=\"T_2bbe2_level0_row5\" class=\"row_heading level0 row5\" >6</th>\n",
       "      <td id=\"T_2bbe2_row5_col0\" class=\"data row5 col0\" >0.450609</td>\n",
       "      <td id=\"T_2bbe2_row5_col1\" class=\"data row5 col1\" >0.269527</td>\n",
       "      <td id=\"T_2bbe2_row5_col2\" class=\"data row5 col2\" >0.066153</td>\n",
       "      <td id=\"T_2bbe2_row5_col3\" class=\"data row5 col3\" >0.213711</td>\n",
       "    </tr>\n",
       "    <tr>\n",
       "      <th id=\"T_2bbe2_level0_row6\" class=\"row_heading level0 row6\" >7</th>\n",
       "      <td id=\"T_2bbe2_row6_col0\" class=\"data row6 col0\" >0.325481</td>\n",
       "      <td id=\"T_2bbe2_row6_col1\" class=\"data row6 col1\" >0.036980</td>\n",
       "      <td id=\"T_2bbe2_row6_col2\" class=\"data row6 col2\" >0.325481</td>\n",
       "      <td id=\"T_2bbe2_row6_col3\" class=\"data row6 col3\" >0.312058</td>\n",
       "    </tr>\n",
       "    <tr>\n",
       "      <th id=\"T_2bbe2_level0_row7\" class=\"row_heading level0 row7\" >8</th>\n",
       "      <td id=\"T_2bbe2_row7_col0\" class=\"data row7 col0\" >0.340210</td>\n",
       "      <td id=\"T_2bbe2_row7_col1\" class=\"data row7 col1\" >0.037033</td>\n",
       "      <td id=\"T_2bbe2_row7_col2\" class=\"data row7 col2\" >0.389073</td>\n",
       "      <td id=\"T_2bbe2_row7_col3\" class=\"data row7 col3\" >0.233684</td>\n",
       "    </tr>\n",
       "    <tr>\n",
       "      <th id=\"T_2bbe2_level0_row8\" class=\"row_heading level0 row8\" >9</th>\n",
       "      <td id=\"T_2bbe2_row8_col0\" class=\"data row8 col0\" >0.274210</td>\n",
       "      <td id=\"T_2bbe2_row8_col1\" class=\"data row8 col1\" >0.020602</td>\n",
       "      <td id=\"T_2bbe2_row8_col2\" class=\"data row8 col2\" >0.489350</td>\n",
       "      <td id=\"T_2bbe2_row8_col3\" class=\"data row8 col3\" >0.215839</td>\n",
       "    </tr>\n",
       "    <tr>\n",
       "      <th id=\"T_2bbe2_level0_row9\" class=\"row_heading level0 row9\" >10</th>\n",
       "      <td id=\"T_2bbe2_row9_col0\" class=\"data row9 col0\" >0.257011</td>\n",
       "      <td id=\"T_2bbe2_row9_col1\" class=\"data row9 col1\" >0.168670</td>\n",
       "      <td id=\"T_2bbe2_row9_col2\" class=\"data row9 col2\" >0.427718</td>\n",
       "      <td id=\"T_2bbe2_row9_col3\" class=\"data row9 col3\" >0.146601</td>\n",
       "    </tr>\n",
       "    <tr>\n",
       "      <th id=\"T_2bbe2_level0_row10\" class=\"row_heading level0 row10\" >11</th>\n",
       "      <td id=\"T_2bbe2_row10_col0\" class=\"data row10 col0\" >0.545629</td>\n",
       "      <td id=\"T_2bbe2_row10_col1\" class=\"data row10 col1\" >0.132042</td>\n",
       "      <td id=\"T_2bbe2_row10_col2\" class=\"data row10 col2\" >0.177012</td>\n",
       "      <td id=\"T_2bbe2_row10_col3\" class=\"data row10 col3\" >0.145318</td>\n",
       "    </tr>\n",
       "    <tr>\n",
       "      <th id=\"T_2bbe2_level0_row11\" class=\"row_heading level0 row11\" >12</th>\n",
       "      <td id=\"T_2bbe2_row11_col0\" class=\"data row11 col0\" >0.367401</td>\n",
       "      <td id=\"T_2bbe2_row11_col1\" class=\"data row11 col1\" >0.040432</td>\n",
       "      <td id=\"T_2bbe2_row11_col2\" class=\"data row11 col2\" >0.311666</td>\n",
       "      <td id=\"T_2bbe2_row11_col3\" class=\"data row11 col3\" >0.280500</td>\n",
       "    </tr>\n",
       "    <tr>\n",
       "      <th id=\"T_2bbe2_level0_row12\" class=\"row_heading level0 row12\" >13</th>\n",
       "      <td id=\"T_2bbe2_row12_col0\" class=\"data row12 col0\" >0.139475</td>\n",
       "      <td id=\"T_2bbe2_row12_col1\" class=\"data row12 col1\" >0.029340</td>\n",
       "      <td id=\"T_2bbe2_row12_col2\" class=\"data row12 col2\" >0.296066</td>\n",
       "      <td id=\"T_2bbe2_row12_col3\" class=\"data row12 col3\" >0.535119</td>\n",
       "    </tr>\n",
       "    <tr>\n",
       "      <th id=\"T_2bbe2_level0_row13\" class=\"row_heading level0 row13\" >14</th>\n",
       "      <td id=\"T_2bbe2_row13_col0\" class=\"data row13 col0\" >0.402440</td>\n",
       "      <td id=\"T_2bbe2_row13_col1\" class=\"data row13 col1\" >0.015046</td>\n",
       "      <td id=\"T_2bbe2_row13_col2\" class=\"data row13 col2\" >0.154273</td>\n",
       "      <td id=\"T_2bbe2_row13_col3\" class=\"data row13 col3\" >0.428241</td>\n",
       "    </tr>\n",
       "    <tr>\n",
       "      <th id=\"T_2bbe2_level0_row14\" class=\"row_heading level0 row14\" >15</th>\n",
       "      <td id=\"T_2bbe2_row14_col0\" class=\"data row14 col0\" >0.242698</td>\n",
       "      <td id=\"T_2bbe2_row14_col1\" class=\"data row14 col1\" >0.420584</td>\n",
       "      <td id=\"T_2bbe2_row14_col2\" class=\"data row14 col2\" >0.201530</td>\n",
       "      <td id=\"T_2bbe2_row14_col3\" class=\"data row14 col3\" >0.135188</td>\n",
       "    </tr>\n",
       "  </tbody>\n",
       "</table>\n"
      ],
      "text/plain": [
       "<pandas.io.formats.style.Styler at 0x28b62131880>"
      ]
     },
     "metadata": {},
     "output_type": "display_data"
    }
   ],
   "source": [
    "### Aplicandole un estilo al cuadro para resaltar el más y menos importante\n",
    "display(var_importance.style.highlight_max(axis=1, props='background-color:green;').highlight_min(axis=1, props='background-color:red;'))\n",
    "var_importance.style.highlight_max(axis=1, props='background-color:green;').highlight_min(axis=1, props='background-color:red;').to_excel('Var importance.xlsx')"
   ]
  },
  {
   "cell_type": "code",
   "execution_count": 877,
   "metadata": {},
   "outputs": [],
   "source": [
    "# Conseguir el atributo maximo por cada columna\n",
    "max_var = var_importance.idxmax(axis=1)\n",
    "min_var = var_importance.idxmin(axis=1)"
   ]
  },
  {
   "cell_type": "code",
   "execution_count": 878,
   "metadata": {},
   "outputs": [
    {
     "data": {
      "text/plain": [
       "Ambientes    0.600000\n",
       "Precio       0.200000\n",
       "Zona         0.133333\n",
       "Balcon       0.066667\n",
       "dtype: float64"
      ]
     },
     "execution_count": 878,
     "metadata": {},
     "output_type": "execute_result"
    }
   ],
   "source": [
    "## Algunas estadisticas\n",
    "max_var.value_counts(normalize=True)"
   ]
  },
  {
   "cell_type": "code",
   "execution_count": 879,
   "metadata": {},
   "outputs": [
    {
     "data": {
      "text/plain": [
       "Balcon    0.800000\n",
       "Zona      0.133333\n",
       "Precio    0.066667\n",
       "dtype: float64"
      ]
     },
     "execution_count": 879,
     "metadata": {},
     "output_type": "execute_result"
    }
   ],
   "source": [
    "min_var.value_counts(normalize=True)"
   ]
  },
  {
   "cell_type": "code",
   "execution_count": 880,
   "metadata": {},
   "outputs": [],
   "source": [
    "mean_imp = pd.DataFrame(var_importance.mean()).reset_index().rename(columns={0:'mean_imp'}).sort_values(by='mean_imp', ascending=False)"
   ]
  },
  {
   "cell_type": "code",
   "execution_count": 881,
   "metadata": {},
   "outputs": [
    {
     "data": {
      "text/html": [
       "<div>\n",
       "<style scoped>\n",
       "    .dataframe tbody tr th:only-of-type {\n",
       "        vertical-align: middle;\n",
       "    }\n",
       "\n",
       "    .dataframe tbody tr th {\n",
       "        vertical-align: top;\n",
       "    }\n",
       "\n",
       "    .dataframe thead th {\n",
       "        text-align: right;\n",
       "    }\n",
       "</style>\n",
       "<table border=\"1\" class=\"dataframe\">\n",
       "  <thead>\n",
       "    <tr style=\"text-align: right;\">\n",
       "      <th></th>\n",
       "      <th>Variable</th>\n",
       "      <th>mean_imp</th>\n",
       "    </tr>\n",
       "  </thead>\n",
       "  <tbody>\n",
       "    <tr>\n",
       "      <th>0</th>\n",
       "      <td>Ambientes</td>\n",
       "      <td>0.355127</td>\n",
       "    </tr>\n",
       "    <tr>\n",
       "      <th>2</th>\n",
       "      <td>Precio</td>\n",
       "      <td>0.285952</td>\n",
       "    </tr>\n",
       "    <tr>\n",
       "      <th>3</th>\n",
       "      <td>Zona</td>\n",
       "      <td>0.237565</td>\n",
       "    </tr>\n",
       "    <tr>\n",
       "      <th>1</th>\n",
       "      <td>Balcon</td>\n",
       "      <td>0.121357</td>\n",
       "    </tr>\n",
       "  </tbody>\n",
       "</table>\n",
       "</div>"
      ],
      "text/plain": [
       "    Variable  mean_imp\n",
       "0  Ambientes  0.355127\n",
       "2     Precio  0.285952\n",
       "3       Zona  0.237565\n",
       "1     Balcon  0.121357"
      ]
     },
     "execution_count": 881,
     "metadata": {},
     "output_type": "execute_result"
    }
   ],
   "source": [
    "#Importancia promedio\n",
    "pd.DataFrame(var_importance.mean()).reset_index().rename(columns={0:'mean_imp'}).sort_values(by='mean_imp', ascending=False)"
   ]
  },
  {
   "cell_type": "code",
   "execution_count": 882,
   "metadata": {},
   "outputs": [
    {
     "data": {
      "text/plain": [
       "Text(0.5, 1.0, 'Importancia promedio de las variables')"
      ]
     },
     "execution_count": 882,
     "metadata": {},
     "output_type": "execute_result"
    },
    {
     "data": {
      "image/png": "[encoded data removed]",
      "text/plain": [
       "<Figure size 640x480 with 1 Axes>"
      ]
     },
     "metadata": {},
     "output_type": "display_data"
    }
   ],
   "source": [
    "sns.barplot(x='Variable',y='mean_imp',data=mean_imp)\n",
    "plt.title('Importancia promedio de las variables')"
   ]
  },
  {
   "cell_type": "markdown",
   "metadata": {},
   "source": [
    "### Punto 3\n",
    "Grafique los valores parciales asociados al precio de cada encuestado. ¿Cuáles son las implicancias de estos gráficos en las decisiones de gestión? "
   ]
  },
  {
   "cell_type": "code",
   "execution_count": 883,
   "metadata": {},
   "outputs": [],
   "source": [
    "price_coeff = pd.DataFrame(columns=['Participante','Variable','coefficient']) # Abro df vacio\n",
    "for participante in range(0,16):\n",
    "    # Para cada participante:\n",
    "    # Subseteo, me quedo solo con las de precio y appendeo\n",
    "    df_participante = df_results[df_results['Participante'] == participante]\n",
    "    df_participante = df_participante[df_participante['Variable'].str.contains('Precio')]\n",
    "    price_coeff = price_coeff.append(df_participante, ignore_index=True)\n",
    "\n",
    "# Reemplazo esto para que no me quede un string muy largo\n",
    "price_coeff['Variable'] = price_coeff['Variable'].replace('Precio[T.$150.000]','150.000')\n",
    "price_coeff['Variable'] = price_coeff['Variable'].replace('Precio[T.$200.000]','200.000')"
   ]
  },
  {
   "cell_type": "code",
   "execution_count": 884,
   "metadata": {},
   "outputs": [
    {
     "data": {
      "text/html": [
       "<div>\n",
       "<style scoped>\n",
       "    .dataframe tbody tr th:only-of-type {\n",
       "        vertical-align: middle;\n",
       "    }\n",
       "\n",
       "    .dataframe tbody tr th {\n",
       "        vertical-align: top;\n",
       "    }\n",
       "\n",
       "    .dataframe thead th {\n",
       "        text-align: right;\n",
       "    }\n",
       "</style>\n",
       "<table border=\"1\" class=\"dataframe\">\n",
       "  <thead>\n",
       "    <tr style=\"text-align: right;\">\n",
       "      <th></th>\n",
       "      <th>Participante</th>\n",
       "      <th>Variable</th>\n",
       "      <th>coefficient</th>\n",
       "      <th>p_value</th>\n",
       "    </tr>\n",
       "  </thead>\n",
       "  <tbody>\n",
       "    <tr>\n",
       "      <th>0</th>\n",
       "      <td>1</td>\n",
       "      <td>150.000</td>\n",
       "      <td>0.074324</td>\n",
       "      <td>0.920709</td>\n",
       "    </tr>\n",
       "    <tr>\n",
       "      <th>1</th>\n",
       "      <td>1</td>\n",
       "      <td>200.000</td>\n",
       "      <td>-3.000000</td>\n",
       "      <td>0.002201</td>\n",
       "    </tr>\n",
       "    <tr>\n",
       "      <th>2</th>\n",
       "      <td>2</td>\n",
       "      <td>150.000</td>\n",
       "      <td>-1.021678</td>\n",
       "      <td>0.294653</td>\n",
       "    </tr>\n",
       "    <tr>\n",
       "      <th>3</th>\n",
       "      <td>2</td>\n",
       "      <td>200.000</td>\n",
       "      <td>-3.166667</td>\n",
       "      <td>0.006802</td>\n",
       "    </tr>\n",
       "    <tr>\n",
       "      <th>4</th>\n",
       "      <td>3</td>\n",
       "      <td>150.000</td>\n",
       "      <td>-1.306306</td>\n",
       "      <td>0.022473</td>\n",
       "    </tr>\n",
       "  </tbody>\n",
       "</table>\n",
       "</div>"
      ],
      "text/plain": [
       "  Participante Variable  coefficient   p_value\n",
       "0            1  150.000     0.074324  0.920709\n",
       "1            1  200.000    -3.000000  0.002201\n",
       "2            2  150.000    -1.021678  0.294653\n",
       "3            2  200.000    -3.166667  0.006802\n",
       "4            3  150.000    -1.306306  0.022473"
      ]
     },
     "execution_count": 884,
     "metadata": {},
     "output_type": "execute_result"
    }
   ],
   "source": [
    "price_coeff.head()"
   ]
  },
  {
   "cell_type": "code",
   "execution_count": 885,
   "metadata": {},
   "outputs": [],
   "source": [
    "# Esta parte del script es para agregar la variable de 100.000 con coeff 0, que estaba en el intercepto\n",
    "for i in range(1,16):\n",
    "    price_coeff = price_coeff.append({'Participante': i, 'Variable': '100.000', 'coefficient': 0, 'p_value': 0}, ignore_index=True)\n",
    "    price_coeff.sort_values(by=['Participante','Variable'], inplace=True)"
   ]
  },
  {
   "cell_type": "code",
   "execution_count": 886,
   "metadata": {},
   "outputs": [
    {
     "data": {
      "text/html": [
       "<div>\n",
       "<style scoped>\n",
       "    .dataframe tbody tr th:only-of-type {\n",
       "        vertical-align: middle;\n",
       "    }\n",
       "\n",
       "    .dataframe tbody tr th {\n",
       "        vertical-align: top;\n",
       "    }\n",
       "\n",
       "    .dataframe thead th {\n",
       "        text-align: right;\n",
       "    }\n",
       "</style>\n",
       "<table border=\"1\" class=\"dataframe\">\n",
       "  <thead>\n",
       "    <tr style=\"text-align: right;\">\n",
       "      <th></th>\n",
       "      <th>Participante</th>\n",
       "      <th>Variable</th>\n",
       "      <th>coefficient</th>\n",
       "      <th>p_value</th>\n",
       "    </tr>\n",
       "  </thead>\n",
       "  <tbody>\n",
       "    <tr>\n",
       "      <th>0</th>\n",
       "      <td>1</td>\n",
       "      <td>100.000</td>\n",
       "      <td>0.000000</td>\n",
       "      <td>0.000000</td>\n",
       "    </tr>\n",
       "    <tr>\n",
       "      <th>1</th>\n",
       "      <td>1</td>\n",
       "      <td>150.000</td>\n",
       "      <td>0.074324</td>\n",
       "      <td>0.920709</td>\n",
       "    </tr>\n",
       "    <tr>\n",
       "      <th>2</th>\n",
       "      <td>1</td>\n",
       "      <td>200.000</td>\n",
       "      <td>-3.000000</td>\n",
       "      <td>0.002201</td>\n",
       "    </tr>\n",
       "    <tr>\n",
       "      <th>3</th>\n",
       "      <td>2</td>\n",
       "      <td>100.000</td>\n",
       "      <td>0.000000</td>\n",
       "      <td>0.000000</td>\n",
       "    </tr>\n",
       "    <tr>\n",
       "      <th>4</th>\n",
       "      <td>2</td>\n",
       "      <td>150.000</td>\n",
       "      <td>-1.021678</td>\n",
       "      <td>0.294653</td>\n",
       "    </tr>\n",
       "  </tbody>\n",
       "</table>\n",
       "</div>"
      ],
      "text/plain": [
       "  Participante Variable  coefficient   p_value\n",
       "0            1  100.000     0.000000  0.000000\n",
       "1            1  150.000     0.074324  0.920709\n",
       "2            1  200.000    -3.000000  0.002201\n",
       "3            2  100.000     0.000000  0.000000\n",
       "4            2  150.000    -1.021678  0.294653"
      ]
     },
     "execution_count": 886,
     "metadata": {},
     "output_type": "execute_result"
    }
   ],
   "source": [
    "price_coeff.head()"
   ]
  },
  {
   "cell_type": "code",
   "execution_count": 887,
   "metadata": {},
   "outputs": [
    {
     "data": {
      "image/png": "[encoded data removed]",
      "text/plain": [
       "<Figure size 1500x1200 with 15 Axes>"
      ]
     },
     "metadata": {},
     "output_type": "display_data"
    }
   ],
   "source": [
    "### Ploteando los coeficientes por participante \n",
    "# Me abro un subplot\n",
    "fig, axs = plt.subplots(3, 5, figsize=(15, 12))\n",
    "\n",
    "for i, ax in enumerate(axs.flat):\n",
    "    # Para cada subplot:\n",
    "    datos_participante = price_coeff[price_coeff['Participante'] == i+1] #Subsetting\n",
    "    sns.barplot(x='Variable', y='coefficient', data=datos_participante, palette='Blues_d', ci=None, ax=ax) #Barplot\n",
    "    # Formato\n",
    "    ax.set_title(f'Participante {i+1}')\n",
    "    ax.set_xlabel('')\n",
    "    ax.set_ylim([-5,0])\n",
    "    ax.set_ylabel('Coefficient')\n",
    "    plt.tight_layout()"
   ]
  },
  {
   "cell_type": "markdown",
   "metadata": {},
   "source": [
    "### Punto 4\n",
    "¿Cuánto están dispuestos a pagar los consumidores por cambios en el atributo más\n",
    "importante? (HINT: si precio es el atributo más importante, considere el segundo atributo\n",
    "más importante). \n"
   ]
  },
  {
   "cell_type": "code",
   "execution_count": 888,
   "metadata": {},
   "outputs": [],
   "source": [
    "ut_df = pd.DataFrame(columns=['Participante','Variable','Price Utility']) # Abro df vacio\n",
    "for i in range(1,16):\n",
    "    # Para cada participante, subsetteo su parte del df con coeffs \n",
    "    df_participante = df_results[df_results['Participante'] == i]\n",
    "    df_precio = df_participante[df_participante['Variable'].str.contains('Precio')]\n",
    "    ## Utilidad de precio con nivel más alto\n",
    "    u_max = df_precio.loc[df_precio['Variable'] == 'Precio[T.$200.000]','coefficient'].values[0]\n",
    "    u_low = 0 ## utilidad de precio más bajo (esta en el intercepto)\n",
    "    price_ut = u_low - u_max # Price utility\n",
    "    ut_df = ut_df.append({'Participante': i, 'Variable': 'Precio[T.$100.000]', 'Price Utility': price_ut}, ignore_index=True) # Lo appendeo\n",
    "    "
   ]
  },
  {
   "cell_type": "code",
   "execution_count": 889,
   "metadata": {},
   "outputs": [
    {
     "data": {
      "text/html": [
       "<div>\n",
       "<style scoped>\n",
       "    .dataframe tbody tr th:only-of-type {\n",
       "        vertical-align: middle;\n",
       "    }\n",
       "\n",
       "    .dataframe tbody tr th {\n",
       "        vertical-align: top;\n",
       "    }\n",
       "\n",
       "    .dataframe thead th {\n",
       "        text-align: right;\n",
       "    }\n",
       "</style>\n",
       "<table border=\"1\" class=\"dataframe\">\n",
       "  <thead>\n",
       "    <tr style=\"text-align: right;\">\n",
       "      <th></th>\n",
       "      <th>Participante</th>\n",
       "      <th>Variable</th>\n",
       "      <th>Price Utility</th>\n",
       "    </tr>\n",
       "  </thead>\n",
       "  <tbody>\n",
       "    <tr>\n",
       "      <th>0</th>\n",
       "      <td>1</td>\n",
       "      <td>Precio[T.$100.000]</td>\n",
       "      <td>3.000000</td>\n",
       "    </tr>\n",
       "    <tr>\n",
       "      <th>1</th>\n",
       "      <td>2</td>\n",
       "      <td>Precio[T.$100.000]</td>\n",
       "      <td>3.166667</td>\n",
       "    </tr>\n",
       "    <tr>\n",
       "      <th>2</th>\n",
       "      <td>3</td>\n",
       "      <td>Precio[T.$100.000]</td>\n",
       "      <td>2.166667</td>\n",
       "    </tr>\n",
       "    <tr>\n",
       "      <th>3</th>\n",
       "      <td>4</td>\n",
       "      <td>Precio[T.$100.000]</td>\n",
       "      <td>1.500000</td>\n",
       "    </tr>\n",
       "    <tr>\n",
       "      <th>4</th>\n",
       "      <td>5</td>\n",
       "      <td>Precio[T.$100.000]</td>\n",
       "      <td>3.166667</td>\n",
       "    </tr>\n",
       "    <tr>\n",
       "      <th>5</th>\n",
       "      <td>6</td>\n",
       "      <td>Precio[T.$100.000]</td>\n",
       "      <td>0.333333</td>\n",
       "    </tr>\n",
       "    <tr>\n",
       "      <th>6</th>\n",
       "      <td>7</td>\n",
       "      <td>Precio[T.$100.000]</td>\n",
       "      <td>2.833333</td>\n",
       "    </tr>\n",
       "    <tr>\n",
       "      <th>7</th>\n",
       "      <td>8</td>\n",
       "      <td>Precio[T.$100.000]</td>\n",
       "      <td>3.833333</td>\n",
       "    </tr>\n",
       "    <tr>\n",
       "      <th>8</th>\n",
       "      <td>9</td>\n",
       "      <td>Precio[T.$100.000]</td>\n",
       "      <td>4.333333</td>\n",
       "    </tr>\n",
       "    <tr>\n",
       "      <th>9</th>\n",
       "      <td>10</td>\n",
       "      <td>Precio[T.$100.000]</td>\n",
       "      <td>3.666667</td>\n",
       "    </tr>\n",
       "    <tr>\n",
       "      <th>10</th>\n",
       "      <td>11</td>\n",
       "      <td>Precio[T.$100.000]</td>\n",
       "      <td>1.666667</td>\n",
       "    </tr>\n",
       "    <tr>\n",
       "      <th>11</th>\n",
       "      <td>12</td>\n",
       "      <td>Precio[T.$100.000]</td>\n",
       "      <td>2.500000</td>\n",
       "    </tr>\n",
       "    <tr>\n",
       "      <th>12</th>\n",
       "      <td>13</td>\n",
       "      <td>Precio[T.$100.000]</td>\n",
       "      <td>1.500000</td>\n",
       "    </tr>\n",
       "    <tr>\n",
       "      <th>13</th>\n",
       "      <td>14</td>\n",
       "      <td>Precio[T.$100.000]</td>\n",
       "      <td>1.666667</td>\n",
       "    </tr>\n",
       "    <tr>\n",
       "      <th>14</th>\n",
       "      <td>15</td>\n",
       "      <td>Precio[T.$100.000]</td>\n",
       "      <td>1.000000</td>\n",
       "    </tr>\n",
       "  </tbody>\n",
       "</table>\n",
       "</div>"
      ],
      "text/plain": [
       "   Participante            Variable  Price Utility\n",
       "0             1  Precio[T.$100.000]       3.000000\n",
       "1             2  Precio[T.$100.000]       3.166667\n",
       "2             3  Precio[T.$100.000]       2.166667\n",
       "3             4  Precio[T.$100.000]       1.500000\n",
       "4             5  Precio[T.$100.000]       3.166667\n",
       "5             6  Precio[T.$100.000]       0.333333\n",
       "6             7  Precio[T.$100.000]       2.833333\n",
       "7             8  Precio[T.$100.000]       3.833333\n",
       "8             9  Precio[T.$100.000]       4.333333\n",
       "9            10  Precio[T.$100.000]       3.666667\n",
       "10           11  Precio[T.$100.000]       1.666667\n",
       "11           12  Precio[T.$100.000]       2.500000\n",
       "12           13  Precio[T.$100.000]       1.500000\n",
       "13           14  Precio[T.$100.000]       1.666667\n",
       "14           15  Precio[T.$100.000]       1.000000"
      ]
     },
     "execution_count": 889,
     "metadata": {},
     "output_type": "execute_result"
    }
   ],
   "source": [
    "ut_df"
   ]
  },
  {
   "cell_type": "code",
   "execution_count": 890,
   "metadata": {},
   "outputs": [
    {
     "name": "stdout",
     "output_type": "stream",
     "text": [
      "Participante 1 --> Ambientes\n",
      "Participante 2 --> Ambientes\n",
      "Participante 3 --> Ambientes\n",
      "Participante 4 --> Ambientes\n",
      "Participante 5 --> Ambientes\n",
      "Participante 6 --> Ambientes\n",
      "Participante 7 --> Ambientes\n",
      "Participante 8 --> Precio, vamos a ver el segundo más importante\n",
      " ---- Participante 8 --> Ambientes\n",
      "Participante 9 --> Precio, vamos a ver el segundo más importante\n",
      " ---- Participante 9 --> Ambientes\n",
      "Participante 10 --> Precio, vamos a ver el segundo más importante\n",
      " ---- Participante 10 --> Ambientes\n",
      "Participante 11 --> Ambientes\n",
      "Participante 12 --> Ambientes\n",
      "Participante 13 --> Zona\n",
      "Participante 14 --> Zona\n",
      "Participante 15 --> Balcon\n"
     ]
    }
   ],
   "source": [
    "## Ahora ya tenemos la price utility, hay que conseguir la utilidad del maximo de atributo de cada participante\n",
    "max_ut_coeffs = pd.DataFrame(columns=['Participante','Variable','coefficient']) # Abro df vacio\n",
    "for i in range(1,16):\n",
    "    # Para cada participante quedemonos con el maximo de utilidad de atributo\n",
    "    max_ut_col = var_importance.loc[var_importance.index == i,:].idxmax(axis=1).values[0]\n",
    "    \n",
    "    #En el loop, voy a programar diferentes casos donde en todos me quedo con los niveles y los coeficientes de la variable de máxima utilidad\n",
    "    \n",
    "    ## Caso 1. Variable más importante --> Ambientes\n",
    "    if max_ut_col == 'Ambientes':\n",
    "        print(f'Participante {i} --> Ambientes')\n",
    "        max_ut_coef1 = df_results.loc[(df_results['Participante'] == i) & (df_results['Variable'] == 'Ambientes[T.3]'),'coefficient'].values[0]\n",
    "        nivel_1 = 'Ambientes[T.3]'\n",
    "        max_ut_coef2 = df_results.loc[(df_results['Participante'] == i) & (df_results['Variable'] == 'Ambientes[T.2]'),'coefficient'].values[0]\n",
    "        nivel_2 = 'Ambientes[T.2]'\n",
    "        max_ut_coef3 = np.nan\n",
    "        nivel_3 = np.nan\n",
    "    \n",
    "    ## Caso 2. Variable más importante --> Balcón\n",
    "    elif max_ut_col == 'Balcon':\n",
    "        print(f'Participante {i} --> Balcon')\n",
    "        max_ut_coef1 = df_results.loc[(df_results['Participante'] == i) & (df_results['Variable'] == 'Balcon[T.Si]'),'coefficient'].values[0]\n",
    "        nivel_1 = 'Balcon[T.Si]'\n",
    "        max_ut_coef2 = np.nan\n",
    "        nivel_2 = np.nan\n",
    "        max_ut_coef3 = np.nan\n",
    "        nivel_3 = np.nan\n",
    "    \n",
    "    ## Caso 3. Variable más importante --> Precio\n",
    "    elif max_ut_col == 'Precio':\n",
    "        print(f'Participante {i} --> Precio, vamos a ver el segundo más importante')\n",
    "        max_ut_col = var_importance.drop(columns='Precio').loc[var_importance.index == i,:].idxmax(axis=1).values[0]\n",
    "        print(f' ---- Participante {i} --> {max_ut_col}')\n",
    "\n",
    "        #En este dataset se dio que todos los que tenian como precio al más importante, el segundo fue la cantidad de ambientes\n",
    "        # Asi que solo tuve que programar ese caso\n",
    "        max_ut_coef1 = df_results.loc[(df_results['Participante'] == i) & (df_results['Variable'] == 'Ambientes[T.3]'),'coefficient'].values[0]\n",
    "        nivel_1 = 'Ambientes[T.3]'\n",
    "        max_ut_coef2 = df_results.loc[(df_results['Participante'] == i) & (df_results['Variable'] == 'Ambientes[T.2]'),'coefficient'].values[0]\n",
    "        nivel_2 = 'Ambientes[T.2]'\n",
    "        max_ut_coef3 = np.nan\n",
    "        nivel_3 = np.nan\n",
    "\n",
    "    ## Caso 4. Variable más importante --> Zona\n",
    "    elif max_ut_col == 'Zona':\n",
    "        print(f'Participante {i} --> Zona')\n",
    "        max_ut_coef1 = df_results.loc[(df_results['Participante'] == i) & (df_results['Variable'] == 'Zona[T.Gba_Norte]'),'coefficient'].values[0]\n",
    "        nivel_1 = 'Zona[T.Gba_Norte]'\n",
    "        max_ut_coef2 = df_results.loc[(df_results['Participante'] == i) & (df_results['Variable'] == 'Zona[T.Gba_Sur]'),'coefficient'].values[0]\n",
    "        nivel_2 = 'Zona[T.Gba_Sur]'\n",
    "        max_ut_coef3 = df_results.loc[(df_results['Participante'] == i) & (df_results['Variable'] == 'Zona[T.Gba_Oeste]'),'coefficient'].values[0]\n",
    "        nivel_3 = 'Zona[T.Gba_Oeste]'\n",
    "\n",
    "    # Appendeamos los coeffs de cada atributo y nivel\n",
    "    max_ut_coeffs = max_ut_coeffs.append({'Participante': i, 'Variable': max_ut_col, 'coefficient': max_ut_coef1, 'nivel': nivel_1}, ignore_index=True)\n",
    "    max_ut_coeffs = max_ut_coeffs.append({'Participante': i, 'Variable': max_ut_col, 'coefficient': max_ut_coef2, 'nivel': nivel_2}, ignore_index=True)\n",
    "    max_ut_coeffs = max_ut_coeffs.append({'Participante': i, 'Variable': max_ut_col, 'coefficient': max_ut_coef3, 'nivel': nivel_3}, ignore_index=True)\n",
    "    del max_ut_coef1, max_ut_coef2, max_ut_coef3 # Borramos las variables para que no se pisen en el loop\n",
    "\n",
    "#Droppeamos NA que fuimos generando en el proceso y estan de más\n",
    "max_ut_coeffs.dropna(inplace=True)"
   ]
  },
  {
   "cell_type": "code",
   "execution_count": 891,
   "metadata": {},
   "outputs": [
    {
     "data": {
      "text/html": [
       "<div>\n",
       "<style scoped>\n",
       "    .dataframe tbody tr th:only-of-type {\n",
       "        vertical-align: middle;\n",
       "    }\n",
       "\n",
       "    .dataframe tbody tr th {\n",
       "        vertical-align: top;\n",
       "    }\n",
       "\n",
       "    .dataframe thead th {\n",
       "        text-align: right;\n",
       "    }\n",
       "</style>\n",
       "<table border=\"1\" class=\"dataframe\">\n",
       "  <thead>\n",
       "    <tr style=\"text-align: right;\">\n",
       "      <th></th>\n",
       "      <th>Participante</th>\n",
       "      <th>Variable</th>\n",
       "      <th>coefficient</th>\n",
       "      <th>nivel</th>\n",
       "    </tr>\n",
       "  </thead>\n",
       "  <tbody>\n",
       "    <tr>\n",
       "      <th>0</th>\n",
       "      <td>1</td>\n",
       "      <td>Ambientes</td>\n",
       "      <td>4.259009</td>\n",
       "      <td>Ambientes[T.3]</td>\n",
       "    </tr>\n",
       "    <tr>\n",
       "      <th>1</th>\n",
       "      <td>1</td>\n",
       "      <td>Ambientes</td>\n",
       "      <td>2.092342</td>\n",
       "      <td>Ambientes[T.2]</td>\n",
       "    </tr>\n",
       "    <tr>\n",
       "      <th>3</th>\n",
       "      <td>2</td>\n",
       "      <td>Ambientes</td>\n",
       "      <td>3.355011</td>\n",
       "      <td>Ambientes[T.3]</td>\n",
       "    </tr>\n",
       "  </tbody>\n",
       "</table>\n",
       "</div>"
      ],
      "text/plain": [
       "  Participante   Variable  coefficient           nivel\n",
       "0            1  Ambientes     4.259009  Ambientes[T.3]\n",
       "1            1  Ambientes     2.092342  Ambientes[T.2]\n",
       "3            2  Ambientes     3.355011  Ambientes[T.3]"
      ]
     },
     "execution_count": 891,
     "metadata": {},
     "output_type": "execute_result"
    }
   ],
   "source": [
    "max_ut_coeffs.head(3)"
   ]
  },
  {
   "cell_type": "code",
   "execution_count": 892,
   "metadata": {},
   "outputs": [
    {
     "data": {
      "text/html": [
       "<div>\n",
       "<style scoped>\n",
       "    .dataframe tbody tr th:only-of-type {\n",
       "        vertical-align: middle;\n",
       "    }\n",
       "\n",
       "    .dataframe tbody tr th {\n",
       "        vertical-align: top;\n",
       "    }\n",
       "\n",
       "    .dataframe thead th {\n",
       "        text-align: right;\n",
       "    }\n",
       "</style>\n",
       "<table border=\"1\" class=\"dataframe\">\n",
       "  <thead>\n",
       "    <tr style=\"text-align: right;\">\n",
       "      <th></th>\n",
       "      <th>Participante</th>\n",
       "      <th>Variable</th>\n",
       "      <th>Price Utility</th>\n",
       "    </tr>\n",
       "  </thead>\n",
       "  <tbody>\n",
       "    <tr>\n",
       "      <th>0</th>\n",
       "      <td>1</td>\n",
       "      <td>Precio[T.$100.000]</td>\n",
       "      <td>3.000000</td>\n",
       "    </tr>\n",
       "    <tr>\n",
       "      <th>1</th>\n",
       "      <td>2</td>\n",
       "      <td>Precio[T.$100.000]</td>\n",
       "      <td>3.166667</td>\n",
       "    </tr>\n",
       "    <tr>\n",
       "      <th>2</th>\n",
       "      <td>3</td>\n",
       "      <td>Precio[T.$100.000]</td>\n",
       "      <td>2.166667</td>\n",
       "    </tr>\n",
       "  </tbody>\n",
       "</table>\n",
       "</div>"
      ],
      "text/plain": [
       "  Participante            Variable  Price Utility\n",
       "0            1  Precio[T.$100.000]       3.000000\n",
       "1            2  Precio[T.$100.000]       3.166667\n",
       "2            3  Precio[T.$100.000]       2.166667"
      ]
     },
     "execution_count": 892,
     "metadata": {},
     "output_type": "execute_result"
    }
   ],
   "source": [
    "ut_df.head(3)"
   ]
  },
  {
   "cell_type": "code",
   "execution_count": 893,
   "metadata": {},
   "outputs": [],
   "source": [
    "# Mergeo los dos df\n",
    "max_ut_coeffs = max_ut_coeffs.merge(ut_df[['Participante','Price Utility']], on='Participante', how='left')"
   ]
  },
  {
   "cell_type": "code",
   "execution_count": 894,
   "metadata": {},
   "outputs": [
    {
     "data": {
      "text/html": [
       "<div>\n",
       "<style scoped>\n",
       "    .dataframe tbody tr th:only-of-type {\n",
       "        vertical-align: middle;\n",
       "    }\n",
       "\n",
       "    .dataframe tbody tr th {\n",
       "        vertical-align: top;\n",
       "    }\n",
       "\n",
       "    .dataframe thead th {\n",
       "        text-align: right;\n",
       "    }\n",
       "</style>\n",
       "<table border=\"1\" class=\"dataframe\">\n",
       "  <thead>\n",
       "    <tr style=\"text-align: right;\">\n",
       "      <th></th>\n",
       "      <th>Participante</th>\n",
       "      <th>Variable</th>\n",
       "      <th>coefficient</th>\n",
       "      <th>nivel</th>\n",
       "      <th>Price Utility</th>\n",
       "    </tr>\n",
       "  </thead>\n",
       "  <tbody>\n",
       "    <tr>\n",
       "      <th>0</th>\n",
       "      <td>1</td>\n",
       "      <td>Ambientes</td>\n",
       "      <td>4.259009</td>\n",
       "      <td>Ambientes[T.3]</td>\n",
       "      <td>3.000000</td>\n",
       "    </tr>\n",
       "    <tr>\n",
       "      <th>1</th>\n",
       "      <td>1</td>\n",
       "      <td>Ambientes</td>\n",
       "      <td>2.092342</td>\n",
       "      <td>Ambientes[T.2]</td>\n",
       "      <td>3.000000</td>\n",
       "    </tr>\n",
       "    <tr>\n",
       "      <th>2</th>\n",
       "      <td>2</td>\n",
       "      <td>Ambientes</td>\n",
       "      <td>3.355011</td>\n",
       "      <td>Ambientes[T.3]</td>\n",
       "      <td>3.166667</td>\n",
       "    </tr>\n",
       "    <tr>\n",
       "      <th>3</th>\n",
       "      <td>2</td>\n",
       "      <td>Ambientes</td>\n",
       "      <td>1.521678</td>\n",
       "      <td>Ambientes[T.2]</td>\n",
       "      <td>3.166667</td>\n",
       "    </tr>\n",
       "    <tr>\n",
       "      <th>4</th>\n",
       "      <td>3</td>\n",
       "      <td>Ambientes</td>\n",
       "      <td>2.806306</td>\n",
       "      <td>Ambientes[T.3]</td>\n",
       "      <td>2.166667</td>\n",
       "    </tr>\n",
       "    <tr>\n",
       "      <th>5</th>\n",
       "      <td>3</td>\n",
       "      <td>Ambientes</td>\n",
       "      <td>1.639640</td>\n",
       "      <td>Ambientes[T.2]</td>\n",
       "      <td>2.166667</td>\n",
       "    </tr>\n",
       "    <tr>\n",
       "      <th>6</th>\n",
       "      <td>4</td>\n",
       "      <td>Ambientes</td>\n",
       "      <td>3.282376</td>\n",
       "      <td>Ambientes[T.3]</td>\n",
       "      <td>1.500000</td>\n",
       "    </tr>\n",
       "    <tr>\n",
       "      <th>7</th>\n",
       "      <td>4</td>\n",
       "      <td>Ambientes</td>\n",
       "      <td>1.949043</td>\n",
       "      <td>Ambientes[T.2]</td>\n",
       "      <td>1.500000</td>\n",
       "    </tr>\n",
       "    <tr>\n",
       "      <th>8</th>\n",
       "      <td>5</td>\n",
       "      <td>Ambientes</td>\n",
       "      <td>4.005068</td>\n",
       "      <td>Ambientes[T.3]</td>\n",
       "      <td>3.166667</td>\n",
       "    </tr>\n",
       "    <tr>\n",
       "      <th>9</th>\n",
       "      <td>5</td>\n",
       "      <td>Ambientes</td>\n",
       "      <td>2.505068</td>\n",
       "      <td>Ambientes[T.2]</td>\n",
       "      <td>3.166667</td>\n",
       "    </tr>\n",
       "    <tr>\n",
       "      <th>10</th>\n",
       "      <td>6</td>\n",
       "      <td>Ambientes</td>\n",
       "      <td>2.270552</td>\n",
       "      <td>Ambientes[T.3]</td>\n",
       "      <td>0.333333</td>\n",
       "    </tr>\n",
       "    <tr>\n",
       "      <th>11</th>\n",
       "      <td>6</td>\n",
       "      <td>Ambientes</td>\n",
       "      <td>1.437218</td>\n",
       "      <td>Ambientes[T.2]</td>\n",
       "      <td>0.333333</td>\n",
       "    </tr>\n",
       "    <tr>\n",
       "      <th>12</th>\n",
       "      <td>7</td>\n",
       "      <td>Ambientes</td>\n",
       "      <td>3.508727</td>\n",
       "      <td>Ambientes[T.3]</td>\n",
       "      <td>2.833333</td>\n",
       "    </tr>\n",
       "    <tr>\n",
       "      <th>13</th>\n",
       "      <td>7</td>\n",
       "      <td>Ambientes</td>\n",
       "      <td>1.675394</td>\n",
       "      <td>Ambientes[T.2]</td>\n",
       "      <td>2.833333</td>\n",
       "    </tr>\n",
       "    <tr>\n",
       "      <th>14</th>\n",
       "      <td>8</td>\n",
       "      <td>Ambientes</td>\n",
       "      <td>3.351914</td>\n",
       "      <td>Ambientes[T.3]</td>\n",
       "      <td>3.833333</td>\n",
       "    </tr>\n",
       "    <tr>\n",
       "      <th>15</th>\n",
       "      <td>8</td>\n",
       "      <td>Ambientes</td>\n",
       "      <td>1.185248</td>\n",
       "      <td>Ambientes[T.2]</td>\n",
       "      <td>3.833333</td>\n",
       "    </tr>\n",
       "    <tr>\n",
       "      <th>16</th>\n",
       "      <td>9</td>\n",
       "      <td>Ambientes</td>\n",
       "      <td>2.428209</td>\n",
       "      <td>Ambientes[T.3]</td>\n",
       "      <td>4.333333</td>\n",
       "    </tr>\n",
       "    <tr>\n",
       "      <th>17</th>\n",
       "      <td>9</td>\n",
       "      <td>Ambientes</td>\n",
       "      <td>1.428209</td>\n",
       "      <td>Ambientes[T.2]</td>\n",
       "      <td>4.333333</td>\n",
       "    </tr>\n",
       "    <tr>\n",
       "      <th>18</th>\n",
       "      <td>10</td>\n",
       "      <td>Ambientes</td>\n",
       "      <td>2.203266</td>\n",
       "      <td>Ambientes[T.3]</td>\n",
       "      <td>3.666667</td>\n",
       "    </tr>\n",
       "    <tr>\n",
       "      <th>19</th>\n",
       "      <td>10</td>\n",
       "      <td>Ambientes</td>\n",
       "      <td>0.536599</td>\n",
       "      <td>Ambientes[T.2]</td>\n",
       "      <td>3.666667</td>\n",
       "    </tr>\n",
       "    <tr>\n",
       "      <th>20</th>\n",
       "      <td>11</td>\n",
       "      <td>Ambientes</td>\n",
       "      <td>5.137387</td>\n",
       "      <td>Ambientes[T.3]</td>\n",
       "      <td>1.666667</td>\n",
       "    </tr>\n",
       "    <tr>\n",
       "      <th>21</th>\n",
       "      <td>11</td>\n",
       "      <td>Ambientes</td>\n",
       "      <td>3.970721</td>\n",
       "      <td>Ambientes[T.2]</td>\n",
       "      <td>1.666667</td>\n",
       "    </tr>\n",
       "    <tr>\n",
       "      <th>22</th>\n",
       "      <td>12</td>\n",
       "      <td>Ambientes</td>\n",
       "      <td>2.947072</td>\n",
       "      <td>Ambientes[T.3]</td>\n",
       "      <td>2.500000</td>\n",
       "    </tr>\n",
       "    <tr>\n",
       "      <th>23</th>\n",
       "      <td>12</td>\n",
       "      <td>Ambientes</td>\n",
       "      <td>1.613739</td>\n",
       "      <td>Ambientes[T.2]</td>\n",
       "      <td>2.500000</td>\n",
       "    </tr>\n",
       "    <tr>\n",
       "      <th>24</th>\n",
       "      <td>13</td>\n",
       "      <td>Zona</td>\n",
       "      <td>-0.711149</td>\n",
       "      <td>Zona[T.Gba_Norte]</td>\n",
       "      <td>1.500000</td>\n",
       "    </tr>\n",
       "    <tr>\n",
       "      <th>25</th>\n",
       "      <td>13</td>\n",
       "      <td>Zona</td>\n",
       "      <td>-2.418919</td>\n",
       "      <td>Zona[T.Gba_Sur]</td>\n",
       "      <td>1.500000</td>\n",
       "    </tr>\n",
       "    <tr>\n",
       "      <th>26</th>\n",
       "      <td>13</td>\n",
       "      <td>Zona</td>\n",
       "      <td>-2.711149</td>\n",
       "      <td>Zona[T.Gba_Oeste]</td>\n",
       "      <td>1.500000</td>\n",
       "    </tr>\n",
       "    <tr>\n",
       "      <th>27</th>\n",
       "      <td>14</td>\n",
       "      <td>Zona</td>\n",
       "      <td>2.886824</td>\n",
       "      <td>Zona[T.Gba_Norte]</td>\n",
       "      <td>1.666667</td>\n",
       "    </tr>\n",
       "    <tr>\n",
       "      <th>28</th>\n",
       "      <td>14</td>\n",
       "      <td>Zona</td>\n",
       "      <td>-2.040541</td>\n",
       "      <td>Zona[T.Gba_Sur]</td>\n",
       "      <td>1.666667</td>\n",
       "    </tr>\n",
       "    <tr>\n",
       "      <th>29</th>\n",
       "      <td>14</td>\n",
       "      <td>Zona</td>\n",
       "      <td>-2.113176</td>\n",
       "      <td>Zona[T.Gba_Oeste]</td>\n",
       "      <td>1.666667</td>\n",
       "    </tr>\n",
       "    <tr>\n",
       "      <th>30</th>\n",
       "      <td>15</td>\n",
       "      <td>Balcon</td>\n",
       "      <td>3.405405</td>\n",
       "      <td>Balcon[T.Si]</td>\n",
       "      <td>1.000000</td>\n",
       "    </tr>\n",
       "  </tbody>\n",
       "</table>\n",
       "</div>"
      ],
      "text/plain": [
       "   Participante   Variable  coefficient              nivel  Price Utility\n",
       "0             1  Ambientes     4.259009     Ambientes[T.3]       3.000000\n",
       "1             1  Ambientes     2.092342     Ambientes[T.2]       3.000000\n",
       "2             2  Ambientes     3.355011     Ambientes[T.3]       3.166667\n",
       "3             2  Ambientes     1.521678     Ambientes[T.2]       3.166667\n",
       "4             3  Ambientes     2.806306     Ambientes[T.3]       2.166667\n",
       "5             3  Ambientes     1.639640     Ambientes[T.2]       2.166667\n",
       "6             4  Ambientes     3.282376     Ambientes[T.3]       1.500000\n",
       "7             4  Ambientes     1.949043     Ambientes[T.2]       1.500000\n",
       "8             5  Ambientes     4.005068     Ambientes[T.3]       3.166667\n",
       "9             5  Ambientes     2.505068     Ambientes[T.2]       3.166667\n",
       "10            6  Ambientes     2.270552     Ambientes[T.3]       0.333333\n",
       "11            6  Ambientes     1.437218     Ambientes[T.2]       0.333333\n",
       "12            7  Ambientes     3.508727     Ambientes[T.3]       2.833333\n",
       "13            7  Ambientes     1.675394     Ambientes[T.2]       2.833333\n",
       "14            8  Ambientes     3.351914     Ambientes[T.3]       3.833333\n",
       "15            8  Ambientes     1.185248     Ambientes[T.2]       3.833333\n",
       "16            9  Ambientes     2.428209     Ambientes[T.3]       4.333333\n",
       "17            9  Ambientes     1.428209     Ambientes[T.2]       4.333333\n",
       "18           10  Ambientes     2.203266     Ambientes[T.3]       3.666667\n",
       "19           10  Ambientes     0.536599     Ambientes[T.2]       3.666667\n",
       "20           11  Ambientes     5.137387     Ambientes[T.3]       1.666667\n",
       "21           11  Ambientes     3.970721     Ambientes[T.2]       1.666667\n",
       "22           12  Ambientes     2.947072     Ambientes[T.3]       2.500000\n",
       "23           12  Ambientes     1.613739     Ambientes[T.2]       2.500000\n",
       "24           13       Zona    -0.711149  Zona[T.Gba_Norte]       1.500000\n",
       "25           13       Zona    -2.418919    Zona[T.Gba_Sur]       1.500000\n",
       "26           13       Zona    -2.711149  Zona[T.Gba_Oeste]       1.500000\n",
       "27           14       Zona     2.886824  Zona[T.Gba_Norte]       1.666667\n",
       "28           14       Zona    -2.040541    Zona[T.Gba_Sur]       1.666667\n",
       "29           14       Zona    -2.113176  Zona[T.Gba_Oeste]       1.666667\n",
       "30           15     Balcon     3.405405       Balcon[T.Si]       1.000000"
      ]
     },
     "execution_count": 894,
     "metadata": {},
     "output_type": "execute_result"
    }
   ],
   "source": [
    "max_ut_coeffs"
   ]
  },
  {
   "cell_type": "code",
   "execution_count": 895,
   "metadata": {},
   "outputs": [],
   "source": [
    "price_range = 200000 - 100000 # Cálculo del price range (Max price tier - Min price tier)"
   ]
  },
  {
   "cell_type": "code",
   "execution_count": 896,
   "metadata": {},
   "outputs": [],
   "source": [
    "## Finalmente, cálculo del willingness to pau\n",
    "max_ut_coeffs['w_to_pay'] = max_ut_coeffs['coefficient'] * price_range / max_ut_coeffs['Price Utility'] "
   ]
  },
  {
   "cell_type": "markdown",
   "metadata": {},
   "source": [
    "Breve análisis del cuadro"
   ]
  },
  {
   "cell_type": "code",
   "execution_count": 897,
   "metadata": {},
   "outputs": [
    {
     "data": {
      "text/plain": [
       "106666.60120157583"
      ]
     },
     "execution_count": 897,
     "metadata": {},
     "output_type": "execute_result"
    }
   ],
   "source": [
    "# Promedio que pagarian por cambio en atributo\n",
    "max_ut_coeffs['w_to_pay'].mean()"
   ]
  },
  {
   "cell_type": "code",
   "execution_count": 898,
   "metadata": {},
   "outputs": [
    {
     "data": {
      "text/html": [
       "<div>\n",
       "<style scoped>\n",
       "    .dataframe tbody tr th:only-of-type {\n",
       "        vertical-align: middle;\n",
       "    }\n",
       "\n",
       "    .dataframe tbody tr th {\n",
       "        vertical-align: top;\n",
       "    }\n",
       "\n",
       "    .dataframe thead th {\n",
       "        text-align: right;\n",
       "    }\n",
       "</style>\n",
       "<table border=\"1\" class=\"dataframe\">\n",
       "  <thead>\n",
       "    <tr style=\"text-align: right;\">\n",
       "      <th></th>\n",
       "      <th></th>\n",
       "      <th>coefficient</th>\n",
       "      <th>Price Utility</th>\n",
       "      <th>w_to_pay</th>\n",
       "    </tr>\n",
       "    <tr>\n",
       "      <th>Variable</th>\n",
       "      <th>nivel</th>\n",
       "      <th></th>\n",
       "      <th></th>\n",
       "      <th></th>\n",
       "    </tr>\n",
       "  </thead>\n",
       "  <tbody>\n",
       "    <tr>\n",
       "      <th rowspan=\"2\" valign=\"top\">Ambientes</th>\n",
       "      <th>Ambientes[T.2]</th>\n",
       "      <td>1.796242</td>\n",
       "      <td>2.680556</td>\n",
       "      <td>106176.632435</td>\n",
       "    </tr>\n",
       "    <tr>\n",
       "      <th>Ambientes[T.3]</th>\n",
       "      <td>3.296242</td>\n",
       "      <td>2.680556</td>\n",
       "      <td>179786.036285</td>\n",
       "    </tr>\n",
       "    <tr>\n",
       "      <th>Balcon</th>\n",
       "      <th>Balcon[T.Si]</th>\n",
       "      <td>3.405405</td>\n",
       "      <td>1.000000</td>\n",
       "      <td>340540.540541</td>\n",
       "    </tr>\n",
       "    <tr>\n",
       "      <th rowspan=\"3\" valign=\"top\">Zona</th>\n",
       "      <th>Zona[T.Gba_Norte]</th>\n",
       "      <td>1.087838</td>\n",
       "      <td>1.583333</td>\n",
       "      <td>62899.774775</td>\n",
       "    </tr>\n",
       "    <tr>\n",
       "      <th>Zona[T.Gba_Oeste]</th>\n",
       "      <td>-2.412162</td>\n",
       "      <td>1.583333</td>\n",
       "      <td>-153766.891892</td>\n",
       "    </tr>\n",
       "    <tr>\n",
       "      <th>Zona[T.Gba_Sur]</th>\n",
       "      <td>-2.229730</td>\n",
       "      <td>1.583333</td>\n",
       "      <td>-141846.846847</td>\n",
       "    </tr>\n",
       "  </tbody>\n",
       "</table>\n",
       "</div>"
      ],
      "text/plain": [
       "                             coefficient  Price Utility       w_to_pay\n",
       "Variable  nivel                                                       \n",
       "Ambientes Ambientes[T.2]        1.796242       2.680556  106176.632435\n",
       "          Ambientes[T.3]        3.296242       2.680556  179786.036285\n",
       "Balcon    Balcon[T.Si]          3.405405       1.000000  340540.540541\n",
       "Zona      Zona[T.Gba_Norte]     1.087838       1.583333   62899.774775\n",
       "          Zona[T.Gba_Oeste]    -2.412162       1.583333 -153766.891892\n",
       "          Zona[T.Gba_Sur]      -2.229730       1.583333 -141846.846847"
      ]
     },
     "execution_count": 898,
     "metadata": {},
     "output_type": "execute_result"
    }
   ],
   "source": [
    "# Promedio por atributo y nivel\n",
    "max_ut_coeffs.groupby(['Variable','nivel']).mean()"
   ]
  },
  {
   "cell_type": "markdown",
   "metadata": {},
   "source": [
    "Preparación para guardar en excel"
   ]
  },
  {
   "cell_type": "code",
   "execution_count": 899,
   "metadata": {},
   "outputs": [],
   "source": [
    "max_ut_coeffs.rename(columns={'Variable':'Atributo más importante', 'nivel':'Nivel de atributo'}, inplace=True)"
   ]
  },
  {
   "cell_type": "code",
   "execution_count": 900,
   "metadata": {},
   "outputs": [],
   "source": [
    "max_ut_coeffs.to_excel('Willigness to pay.xlsx',index=False)"
   ]
  },
  {
   "cell_type": "markdown",
   "metadata": {},
   "source": [
    "### Punto 5\n",
    "Realice una segmentación de sus encuestados basándose en las preferencias obtenidas\n",
    "mediante la regresión. Comente respecto a los segmentos obtenidos. ¿Qué\n",
    "producto/servicio podría ofrecer a cada segmento? (HINT: considere no más de 4\n",
    "segmentos). \n"
   ]
  },
  {
   "cell_type": "code",
   "execution_count": 901,
   "metadata": {},
   "outputs": [],
   "source": [
    "## Importando paquete para KMeans\n",
    "from sklearn.cluster import KMeans"
   ]
  },
  {
   "cell_type": "code",
   "execution_count": 902,
   "metadata": {},
   "outputs": [
    {
     "name": "stderr",
     "output_type": "stream",
     "text": [
      "c:\\Users\\lucas\\anaconda3\\lib\\site-packages\\sklearn\\cluster\\_kmeans.py:1382: UserWarning: KMeans is known to have a memory leak on Windows with MKL, when there are less chunks than available threads. You can avoid it by setting the environment variable OMP_NUM_THREADS=1.\n",
      "  warnings.warn(\n"
     ]
    },
    {
     "name": "stdout",
     "output_type": "stream",
     "text": [
      "Clusters: 1 --> Inertia: 0.6609015224311526\n"
     ]
    },
    {
     "name": "stderr",
     "output_type": "stream",
     "text": [
      "c:\\Users\\lucas\\anaconda3\\lib\\site-packages\\sklearn\\cluster\\_kmeans.py:1382: UserWarning: KMeans is known to have a memory leak on Windows with MKL, when there are less chunks than available threads. You can avoid it by setting the environment variable OMP_NUM_THREADS=1.\n",
      "  warnings.warn(\n"
     ]
    },
    {
     "name": "stdout",
     "output_type": "stream",
     "text": [
      "Clusters: 2 --> Inertia: 0.4444007540275494\n"
     ]
    },
    {
     "name": "stderr",
     "output_type": "stream",
     "text": [
      "c:\\Users\\lucas\\anaconda3\\lib\\site-packages\\sklearn\\cluster\\_kmeans.py:1382: UserWarning: KMeans is known to have a memory leak on Windows with MKL, when there are less chunks than available threads. You can avoid it by setting the environment variable OMP_NUM_THREADS=1.\n",
      "  warnings.warn(\n"
     ]
    },
    {
     "name": "stdout",
     "output_type": "stream",
     "text": [
      "Clusters: 3 --> Inertia: 0.28225925197244545\n"
     ]
    },
    {
     "name": "stderr",
     "output_type": "stream",
     "text": [
      "c:\\Users\\lucas\\anaconda3\\lib\\site-packages\\sklearn\\cluster\\_kmeans.py:1382: UserWarning: KMeans is known to have a memory leak on Windows with MKL, when there are less chunks than available threads. You can avoid it by setting the environment variable OMP_NUM_THREADS=1.\n",
      "  warnings.warn(\n"
     ]
    },
    {
     "name": "stdout",
     "output_type": "stream",
     "text": [
      "Clusters: 4 --> Inertia: 0.1980536787967258\n"
     ]
    },
    {
     "name": "stderr",
     "output_type": "stream",
     "text": [
      "c:\\Users\\lucas\\anaconda3\\lib\\site-packages\\sklearn\\cluster\\_kmeans.py:1382: UserWarning: KMeans is known to have a memory leak on Windows with MKL, when there are less chunks than available threads. You can avoid it by setting the environment variable OMP_NUM_THREADS=1.\n",
      "  warnings.warn(\n"
     ]
    },
    {
     "name": "stdout",
     "output_type": "stream",
     "text": [
      "Clusters: 5 --> Inertia: 0.14761218919515928\n"
     ]
    },
    {
     "name": "stderr",
     "output_type": "stream",
     "text": [
      "c:\\Users\\lucas\\anaconda3\\lib\\site-packages\\sklearn\\cluster\\_kmeans.py:1382: UserWarning: KMeans is known to have a memory leak on Windows with MKL, when there are less chunks than available threads. You can avoid it by setting the environment variable OMP_NUM_THREADS=1.\n",
      "  warnings.warn(\n"
     ]
    },
    {
     "name": "stdout",
     "output_type": "stream",
     "text": [
      "Clusters: 6 --> Inertia: 0.10340844782054223\n"
     ]
    },
    {
     "name": "stderr",
     "output_type": "stream",
     "text": [
      "c:\\Users\\lucas\\anaconda3\\lib\\site-packages\\sklearn\\cluster\\_kmeans.py:1382: UserWarning: KMeans is known to have a memory leak on Windows with MKL, when there are less chunks than available threads. You can avoid it by setting the environment variable OMP_NUM_THREADS=1.\n",
      "  warnings.warn(\n"
     ]
    },
    {
     "name": "stdout",
     "output_type": "stream",
     "text": [
      "Clusters: 7 --> Inertia: 0.06700801836169454\n"
     ]
    },
    {
     "name": "stderr",
     "output_type": "stream",
     "text": [
      "c:\\Users\\lucas\\anaconda3\\lib\\site-packages\\sklearn\\cluster\\_kmeans.py:1382: UserWarning: KMeans is known to have a memory leak on Windows with MKL, when there are less chunks than available threads. You can avoid it by setting the environment variable OMP_NUM_THREADS=1.\n",
      "  warnings.warn(\n"
     ]
    },
    {
     "name": "stdout",
     "output_type": "stream",
     "text": [
      "Clusters: 8 --> Inertia: 0.04688495636433538\n"
     ]
    },
    {
     "name": "stderr",
     "output_type": "stream",
     "text": [
      "c:\\Users\\lucas\\anaconda3\\lib\\site-packages\\sklearn\\cluster\\_kmeans.py:1382: UserWarning: KMeans is known to have a memory leak on Windows with MKL, when there are less chunks than available threads. You can avoid it by setting the environment variable OMP_NUM_THREADS=1.\n",
      "  warnings.warn(\n"
     ]
    },
    {
     "name": "stdout",
     "output_type": "stream",
     "text": [
      "Clusters: 9 --> Inertia: 0.031478731133863604\n"
     ]
    },
    {
     "name": "stderr",
     "output_type": "stream",
     "text": [
      "c:\\Users\\lucas\\anaconda3\\lib\\site-packages\\sklearn\\cluster\\_kmeans.py:1382: UserWarning: KMeans is known to have a memory leak on Windows with MKL, when there are less chunks than available threads. You can avoid it by setting the environment variable OMP_NUM_THREADS=1.\n",
      "  warnings.warn(\n"
     ]
    },
    {
     "name": "stdout",
     "output_type": "stream",
     "text": [
      "Clusters: 10 --> Inertia: 0.01829186893738681\n"
     ]
    },
    {
     "name": "stderr",
     "output_type": "stream",
     "text": [
      "c:\\Users\\lucas\\anaconda3\\lib\\site-packages\\sklearn\\cluster\\_kmeans.py:1382: UserWarning: KMeans is known to have a memory leak on Windows with MKL, when there are less chunks than available threads. You can avoid it by setting the environment variable OMP_NUM_THREADS=1.\n",
      "  warnings.warn(\n"
     ]
    },
    {
     "name": "stdout",
     "output_type": "stream",
     "text": [
      "Clusters: 11 --> Inertia: 0.01063160187098829\n"
     ]
    },
    {
     "data": {
      "text/plain": [
       "([<matplotlib.axis.XTick at 0x28b63192eb0>,\n",
       "  <matplotlib.axis.XTick at 0x28b631920d0>,\n",
       "  <matplotlib.axis.XTick at 0x28b637cd040>,\n",
       "  <matplotlib.axis.XTick at 0x28b636b59a0>,\n",
       "  <matplotlib.axis.XTick at 0x28b636b8070>,\n",
       "  <matplotlib.axis.XTick at 0x28b636b5b20>,\n",
       "  <matplotlib.axis.XTick at 0x28b636b84f0>,\n",
       "  <matplotlib.axis.XTick at 0x28b634f57f0>,\n",
       "  <matplotlib.axis.XTick at 0x28b634f58b0>,\n",
       "  <matplotlib.axis.XTick at 0x28b64160c70>,\n",
       "  <matplotlib.axis.XTick at 0x28b641607c0>],\n",
       " [Text(1, 0, '1'),\n",
       "  Text(2, 0, '2'),\n",
       "  Text(3, 0, '3'),\n",
       "  Text(4, 0, '4'),\n",
       "  Text(5, 0, '5'),\n",
       "  Text(6, 0, '6'),\n",
       "  Text(7, 0, '7'),\n",
       "  Text(8, 0, '8'),\n",
       "  Text(9, 0, '9'),\n",
       "  Text(10, 0, '10'),\n",
       "  Text(11, 0, '11')])"
      ]
     },
     "execution_count": 902,
     "metadata": {},
     "output_type": "execute_result"
    },
    {
     "data": {
      "image/png": "[encoded data removed]",
      "text/plain": [
       "<Figure size 640x480 with 1 Axes>"
      ]
     },
     "metadata": {},
     "output_type": "display_data"
    }
   ],
   "source": [
    "## Metodo del codo\n",
    "innertia = []\n",
    "for i in range(1,12):\n",
    "    kmeans = KMeans(n_clusters=i, random_state=0)\n",
    "    kmeans.fit(var_importance.reset_index().drop(columns='Participante'))\n",
    "    print(f'Clusters: {i} --> Inertia: {kmeans.inertia_}')\n",
    "    innertia.append(kmeans.inertia_)\n",
    "plt.plot(range(1,12), innertia)\n",
    "plt.xticks(range(1,12))"
   ]
  },
  {
   "cell_type": "markdown",
   "metadata": {},
   "source": [
    "Entre 3 y 4 parecerían el número adecuado de clusters, vamos con 4"
   ]
  },
  {
   "cell_type": "code",
   "execution_count": 903,
   "metadata": {},
   "outputs": [
    {
     "name": "stderr",
     "output_type": "stream",
     "text": [
      "c:\\Users\\lucas\\anaconda3\\lib\\site-packages\\sklearn\\cluster\\_kmeans.py:1382: UserWarning: KMeans is known to have a memory leak on Windows with MKL, when there are less chunks than available threads. You can avoid it by setting the environment variable OMP_NUM_THREADS=1.\n",
      "  warnings.warn(\n"
     ]
    }
   ],
   "source": [
    "## Fitteamos modelos y creamos columna con el numero de cluster\n",
    "knn = KMeans(n_clusters=4, random_state=0)\n",
    "knn.fit(var_importance.reset_index().drop(columns='Participante'))\n",
    "var_importance['Cluster'] = knn.labels_ + 1"
   ]
  },
  {
   "cell_type": "code",
   "execution_count": 904,
   "metadata": {},
   "outputs": [
    {
     "data": {
      "text/html": [
       "<div>\n",
       "<style scoped>\n",
       "    .dataframe tbody tr th:only-of-type {\n",
       "        vertical-align: middle;\n",
       "    }\n",
       "\n",
       "    .dataframe tbody tr th {\n",
       "        vertical-align: top;\n",
       "    }\n",
       "\n",
       "    .dataframe thead th {\n",
       "        text-align: right;\n",
       "    }\n",
       "</style>\n",
       "<table border=\"1\" class=\"dataframe\">\n",
       "  <thead>\n",
       "    <tr style=\"text-align: right;\">\n",
       "      <th>Variable</th>\n",
       "      <th>Ambientes</th>\n",
       "      <th>Balcon</th>\n",
       "      <th>Precio</th>\n",
       "      <th>Zona</th>\n",
       "      <th>Cluster</th>\n",
       "    </tr>\n",
       "    <tr>\n",
       "      <th>Participante</th>\n",
       "      <th></th>\n",
       "      <th></th>\n",
       "      <th></th>\n",
       "      <th></th>\n",
       "      <th></th>\n",
       "    </tr>\n",
       "  </thead>\n",
       "  <tbody>\n",
       "    <tr>\n",
       "      <th>1</th>\n",
       "      <td>0.394123</td>\n",
       "      <td>0.142559</td>\n",
       "      <td>0.284494</td>\n",
       "      <td>0.178825</td>\n",
       "      <td>1</td>\n",
       "    </tr>\n",
       "    <tr>\n",
       "      <th>2</th>\n",
       "      <td>0.385751</td>\n",
       "      <td>0.106432</td>\n",
       "      <td>0.364095</td>\n",
       "      <td>0.143722</td>\n",
       "      <td>1</td>\n",
       "    </tr>\n",
       "  </tbody>\n",
       "</table>\n",
       "</div>"
      ],
      "text/plain": [
       "Variable      Ambientes    Balcon    Precio      Zona  Cluster\n",
       "Participante                                                  \n",
       "1              0.394123  0.142559  0.284494  0.178825        1\n",
       "2              0.385751  0.106432  0.364095  0.143722        1"
      ]
     },
     "execution_count": 904,
     "metadata": {},
     "output_type": "execute_result"
    }
   ],
   "source": [
    "var_importance.head(2)"
   ]
  },
  {
   "cell_type": "code",
   "execution_count": 905,
   "metadata": {},
   "outputs": [],
   "source": [
    "## Análisis de importancia por cluster\n",
    "cluster_data = var_importance.groupby('Cluster').mean().reset_index()\n",
    "cluster_data.set_index('Cluster', inplace=True)"
   ]
  },
  {
   "cell_type": "code",
   "execution_count": 906,
   "metadata": {},
   "outputs": [
    {
     "data": {
      "text/html": [
       "<div>\n",
       "<style scoped>\n",
       "    .dataframe tbody tr th:only-of-type {\n",
       "        vertical-align: middle;\n",
       "    }\n",
       "\n",
       "    .dataframe tbody tr th {\n",
       "        vertical-align: top;\n",
       "    }\n",
       "\n",
       "    .dataframe thead th {\n",
       "        text-align: right;\n",
       "    }\n",
       "</style>\n",
       "<table border=\"1\" class=\"dataframe\">\n",
       "  <thead>\n",
       "    <tr style=\"text-align: right;\">\n",
       "      <th>Variable</th>\n",
       "      <th>Ambientes</th>\n",
       "      <th>Balcon</th>\n",
       "      <th>Precio</th>\n",
       "      <th>Zona</th>\n",
       "    </tr>\n",
       "    <tr>\n",
       "      <th>Cluster</th>\n",
       "      <th></th>\n",
       "      <th></th>\n",
       "      <th></th>\n",
       "      <th></th>\n",
       "    </tr>\n",
       "  </thead>\n",
       "  <tbody>\n",
       "    <tr>\n",
       "      <th>1</th>\n",
       "      <td>0.347390</td>\n",
       "      <td>0.087267</td>\n",
       "      <td>0.355835</td>\n",
       "      <td>0.209508</td>\n",
       "    </tr>\n",
       "    <tr>\n",
       "      <th>2</th>\n",
       "      <td>0.270958</td>\n",
       "      <td>0.022193</td>\n",
       "      <td>0.225169</td>\n",
       "      <td>0.481680</td>\n",
       "    </tr>\n",
       "    <tr>\n",
       "      <th>3</th>\n",
       "      <td>0.471926</td>\n",
       "      <td>0.189992</td>\n",
       "      <td>0.144963</td>\n",
       "      <td>0.193120</td>\n",
       "    </tr>\n",
       "    <tr>\n",
       "      <th>4</th>\n",
       "      <td>0.242698</td>\n",
       "      <td>0.420584</td>\n",
       "      <td>0.201530</td>\n",
       "      <td>0.135188</td>\n",
       "    </tr>\n",
       "  </tbody>\n",
       "</table>\n",
       "</div>"
      ],
      "text/plain": [
       "Variable  Ambientes    Balcon    Precio      Zona\n",
       "Cluster                                          \n",
       "1          0.347390  0.087267  0.355835  0.209508\n",
       "2          0.270958  0.022193  0.225169  0.481680\n",
       "3          0.471926  0.189992  0.144963  0.193120\n",
       "4          0.242698  0.420584  0.201530  0.135188"
      ]
     },
     "execution_count": 906,
     "metadata": {},
     "output_type": "execute_result"
    }
   ],
   "source": [
    "cluster_data"
   ]
  },
  {
   "cell_type": "code",
   "execution_count": 907,
   "metadata": {},
   "outputs": [
    {
     "data": {
      "image/png": "[encoded data removed]",
      "text/plain": [
       "<Figure size 1000x600 with 4 Axes>"
      ]
     },
     "metadata": {},
     "output_type": "display_data"
    }
   ],
   "source": [
    "# Gráfico de importancia de atributos por cluster\n",
    "plt.figure(figsize=(10,6))\n",
    "for i in range(1,5):\n",
    "    plt.subplot(2,2,i)\n",
    "    sns.barplot(x=cluster_data.index,y=cluster_data.iloc[:,i-1], data=cluster_data, palette='Blues_d', ci=None)\n",
    "    plt.suptitle('Importancia de atributos por cluster')\n",
    "    plt.title(var_importance.columns[i-1])\n",
    "    plt.xlabel('')\n",
    "    plt.ylabel('Utility')\n",
    "    plt.tight_layout()"
   ]
  },
  {
   "cell_type": "markdown",
   "metadata": {},
   "source": [
    "### Punto 6\n",
    "Genere dos perfiles de productos que no aparezcan en su cuestionario. Suponga que\n",
    "actualmente éstos son los únicos productos en el mercado ofrecidos por los competidores\n",
    "X e Y. Basándose en el total de sus encuestas, ¿cuál sería su estimación sobre la\n",
    "participación de mercado para cada uno de estos productos? "
   ]
  },
  {
   "cell_type": "markdown",
   "metadata": {},
   "source": [
    "El intercepto corresponde a un departamento:\n",
    "- En CABA\n",
    "- Sin Balcón\n",
    "- De 1 ambiente\n",
    "- De $100.000 mensuales"
   ]
  },
  {
   "cell_type": "code",
   "execution_count": 908,
   "metadata": {},
   "outputs": [],
   "source": [
    "# Armamos los departamentos\n",
    "\n",
    "### Departamento 1\n",
    "depto_1 = ['Ambientes[T.2]','Balcon[T.Si]','Precio[T.$150.000]','Zona[T.CABA]']\n",
    "\n",
    "### Departamento 2\n",
    "depto_2 = ['Ambientes[T.3]','Balcon[T.No]','Precio[T.$150.000]','Zona[T.Gba_Norte]']"
   ]
  },
  {
   "cell_type": "code",
   "execution_count": 909,
   "metadata": {},
   "outputs": [],
   "source": [
    "puntajes = pd.DataFrame(columns=['Participante','Depto 1','Depto 2'])\n",
    "for i in range(1,16):\n",
    "    # Para cada participante, obtengo su intercepto\n",
    "    df_participante = df_results[df_results['Participante'] == i]\n",
    "    intercepto = df_participante.loc[df_participante['Variable'] == 'Intercept','coefficient'].values[0]\n",
    "    puntaje_1 = intercepto\n",
    "    puntaje_2 = intercepto\n",
    "    for j in depto_1:\n",
    "        if j in df_participante['Variable'].unique():\n",
    "            # Para cada variable en el depto 1, si esta en el df del participante, le sumo el coeficiente\n",
    "            puntaje_1 = puntaje_1 + df_participante.loc[df_participante['Variable'] == j,'coefficient'].values[0]\n",
    "    for k in depto_2:\n",
    "        if k in df_participante['Variable'].unique():\n",
    "            # Para cada variable en el depto 2, si esta en el df del participante, le sumo el coeficiente\n",
    "            puntaje_2 = puntaje_2 + df_participante.loc[df_participante['Variable'] == k,'coefficient'].values[0]\n",
    "    \n",
    "    puntajes = puntajes.append({'Participante': i, 'Depto 1': puntaje_1, 'Depto 2': puntaje_2}, ignore_index=True)"
   ]
  },
  {
   "cell_type": "code",
   "execution_count": 910,
   "metadata": {},
   "outputs": [],
   "source": [
    "# Regla de decisión, si el puntaje del depto 1 es mayor al del depto 2, el participante elige el depto 1, sino el depto 2\n",
    "puntajes['Depto'] = [1 if x > y else 2 for x,y in zip(puntajes['Depto 1'],puntajes['Depto 2'])]"
   ]
  },
  {
   "cell_type": "code",
   "execution_count": 911,
   "metadata": {},
   "outputs": [
    {
     "data": {
      "text/plain": [
       "2    9\n",
       "1    6\n",
       "Name: Depto, dtype: int64"
      ]
     },
     "execution_count": 911,
     "metadata": {},
     "output_type": "execute_result"
    }
   ],
   "source": [
    "puntajes['Depto'].value_counts()"
   ]
  },
  {
   "cell_type": "code",
   "execution_count": 912,
   "metadata": {},
   "outputs": [
    {
     "data": {
      "text/plain": [
       "2    0.6\n",
       "1    0.4\n",
       "Name: Depto, dtype: float64"
      ]
     },
     "execution_count": 912,
     "metadata": {},
     "output_type": "execute_result"
    }
   ],
   "source": [
    "puntajes['Depto'].value_counts(normalize=True)"
   ]
  },
  {
   "cell_type": "markdown",
   "metadata": {},
   "source": [
    "Vamos a ver si la segmentación realizada en el punto anterior detecta bien la diferencia entre quienes prefieren un depto u otro"
   ]
  },
  {
   "cell_type": "code",
   "execution_count": 913,
   "metadata": {},
   "outputs": [],
   "source": [
    "puntajes = pd.merge(puntajes,var_importance['Cluster'],on='Participante')"
   ]
  },
  {
   "cell_type": "code",
   "execution_count": 914,
   "metadata": {},
   "outputs": [
    {
     "data": {
      "text/html": [
       "<div>\n",
       "<style scoped>\n",
       "    .dataframe tbody tr th:only-of-type {\n",
       "        vertical-align: middle;\n",
       "    }\n",
       "\n",
       "    .dataframe tbody tr th {\n",
       "        vertical-align: top;\n",
       "    }\n",
       "\n",
       "    .dataframe thead th {\n",
       "        text-align: right;\n",
       "    }\n",
       "</style>\n",
       "<table border=\"1\" class=\"dataframe\">\n",
       "  <thead>\n",
       "    <tr style=\"text-align: right;\">\n",
       "      <th></th>\n",
       "      <th>Participante</th>\n",
       "      <th>Depto 1</th>\n",
       "      <th>Depto 2</th>\n",
       "      <th>Depto</th>\n",
       "      <th>Cluster</th>\n",
       "    </tr>\n",
       "  </thead>\n",
       "  <tbody>\n",
       "    <tr>\n",
       "      <th>0</th>\n",
       "      <td>1.0</td>\n",
       "      <td>7.227477</td>\n",
       "      <td>7.688063</td>\n",
       "      <td>2</td>\n",
       "      <td>1</td>\n",
       "    </tr>\n",
       "    <tr>\n",
       "      <th>1</th>\n",
       "      <td>2.0</td>\n",
       "      <td>5.190597</td>\n",
       "      <td>5.703829</td>\n",
       "      <td>2</td>\n",
       "      <td>1</td>\n",
       "    </tr>\n",
       "    <tr>\n",
       "      <th>2</th>\n",
       "      <td>3.0</td>\n",
       "      <td>4.234234</td>\n",
       "      <td>6.144144</td>\n",
       "      <td>2</td>\n",
       "      <td>1</td>\n",
       "    </tr>\n",
       "    <tr>\n",
       "      <th>3</th>\n",
       "      <td>4.0</td>\n",
       "      <td>8.090935</td>\n",
       "      <td>7.382883</td>\n",
       "      <td>1</td>\n",
       "      <td>3</td>\n",
       "    </tr>\n",
       "    <tr>\n",
       "      <th>4</th>\n",
       "      <td>5.0</td>\n",
       "      <td>8.518581</td>\n",
       "      <td>8.722973</td>\n",
       "      <td>2</td>\n",
       "      <td>1</td>\n",
       "    </tr>\n",
       "    <tr>\n",
       "      <th>5</th>\n",
       "      <td>6.0</td>\n",
       "      <td>7.214245</td>\n",
       "      <td>5.612613</td>\n",
       "      <td>1</td>\n",
       "      <td>3</td>\n",
       "    </tr>\n",
       "    <tr>\n",
       "      <th>6</th>\n",
       "      <td>7.0</td>\n",
       "      <td>5.087556</td>\n",
       "      <td>6.717342</td>\n",
       "      <td>2</td>\n",
       "      <td>1</td>\n",
       "    </tr>\n",
       "    <tr>\n",
       "      <th>7</th>\n",
       "      <td>8.0</td>\n",
       "      <td>6.901464</td>\n",
       "      <td>8.400901</td>\n",
       "      <td>2</td>\n",
       "      <td>1</td>\n",
       "    </tr>\n",
       "    <tr>\n",
       "      <th>8</th>\n",
       "      <td>9.0</td>\n",
       "      <td>6.070101</td>\n",
       "      <td>5.341216</td>\n",
       "      <td>1</td>\n",
       "      <td>1</td>\n",
       "    </tr>\n",
       "    <tr>\n",
       "      <th>9</th>\n",
       "      <td>10.0</td>\n",
       "      <td>5.523086</td>\n",
       "      <td>5.610360</td>\n",
       "      <td>2</td>\n",
       "      <td>1</td>\n",
       "    </tr>\n",
       "    <tr>\n",
       "      <th>10</th>\n",
       "      <td>11.0</td>\n",
       "      <td>7.781532</td>\n",
       "      <td>7.086712</td>\n",
       "      <td>1</td>\n",
       "      <td>3</td>\n",
       "    </tr>\n",
       "    <tr>\n",
       "      <th>11</th>\n",
       "      <td>12.0</td>\n",
       "      <td>7.694820</td>\n",
       "      <td>9.129505</td>\n",
       "      <td>2</td>\n",
       "      <td>1</td>\n",
       "    </tr>\n",
       "    <tr>\n",
       "      <th>12</th>\n",
       "      <td>13.0</td>\n",
       "      <td>7.202140</td>\n",
       "      <td>6.509009</td>\n",
       "      <td>1</td>\n",
       "      <td>2</td>\n",
       "    </tr>\n",
       "    <tr>\n",
       "      <th>13</th>\n",
       "      <td>14.0</td>\n",
       "      <td>6.784347</td>\n",
       "      <td>11.828829</td>\n",
       "      <td>2</td>\n",
       "      <td>2</td>\n",
       "    </tr>\n",
       "    <tr>\n",
       "      <th>14</th>\n",
       "      <td>15.0</td>\n",
       "      <td>6.316441</td>\n",
       "      <td>3.838964</td>\n",
       "      <td>1</td>\n",
       "      <td>4</td>\n",
       "    </tr>\n",
       "  </tbody>\n",
       "</table>\n",
       "</div>"
      ],
      "text/plain": [
       "    Participante   Depto 1    Depto 2  Depto  Cluster\n",
       "0            1.0  7.227477   7.688063      2        1\n",
       "1            2.0  5.190597   5.703829      2        1\n",
       "2            3.0  4.234234   6.144144      2        1\n",
       "3            4.0  8.090935   7.382883      1        3\n",
       "4            5.0  8.518581   8.722973      2        1\n",
       "5            6.0  7.214245   5.612613      1        3\n",
       "6            7.0  5.087556   6.717342      2        1\n",
       "7            8.0  6.901464   8.400901      2        1\n",
       "8            9.0  6.070101   5.341216      1        1\n",
       "9           10.0  5.523086   5.610360      2        1\n",
       "10          11.0  7.781532   7.086712      1        3\n",
       "11          12.0  7.694820   9.129505      2        1\n",
       "12          13.0  7.202140   6.509009      1        2\n",
       "13          14.0  6.784347  11.828829      2        2\n",
       "14          15.0  6.316441   3.838964      1        4"
      ]
     },
     "execution_count": 914,
     "metadata": {},
     "output_type": "execute_result"
    }
   ],
   "source": [
    "puntajes"
   ]
  },
  {
   "cell_type": "code",
   "execution_count": 915,
   "metadata": {},
   "outputs": [
    {
     "data": {
      "text/plain": [
       "<matplotlib.legend.Legend at 0x28b6e789280>"
      ]
     },
     "execution_count": 915,
     "metadata": {},
     "output_type": "execute_result"
    },
    {
     "data": {
      "image/png": "[encoded data removed]",
      "text/plain": [
       "<Figure size 640x480 with 1 Axes>"
      ]
     },
     "metadata": {},
     "output_type": "display_data"
    }
   ],
   "source": [
    "sns.scatterplot(x='Depto 1',y='Depto 2',data=puntajes,hue='Cluster',palette='Set2')\n",
    "plt.xlim([0,12])\n",
    "plt.ylim([0,12])\n",
    "plt.legend(bbox_to_anchor=(1.05, 1), loc=2, borderaxespad=0.)"
   ]
  },
  {
   "cell_type": "code",
   "execution_count": 916,
   "metadata": {},
   "outputs": [
    {
     "data": {
      "text/html": [
       "<div>\n",
       "<style scoped>\n",
       "    .dataframe tbody tr th:only-of-type {\n",
       "        vertical-align: middle;\n",
       "    }\n",
       "\n",
       "    .dataframe tbody tr th {\n",
       "        vertical-align: top;\n",
       "    }\n",
       "\n",
       "    .dataframe thead th {\n",
       "        text-align: right;\n",
       "    }\n",
       "</style>\n",
       "<table border=\"1\" class=\"dataframe\">\n",
       "  <thead>\n",
       "    <tr style=\"text-align: right;\">\n",
       "      <th></th>\n",
       "      <th>Depto 1</th>\n",
       "      <th>Depto 2</th>\n",
       "    </tr>\n",
       "    <tr>\n",
       "      <th>Cluster</th>\n",
       "      <th></th>\n",
       "      <th></th>\n",
       "    </tr>\n",
       "  </thead>\n",
       "  <tbody>\n",
       "    <tr>\n",
       "      <th>1</th>\n",
       "      <td>6.271991</td>\n",
       "      <td>7.050926</td>\n",
       "    </tr>\n",
       "    <tr>\n",
       "      <th>2</th>\n",
       "      <td>6.993243</td>\n",
       "      <td>9.168919</td>\n",
       "    </tr>\n",
       "    <tr>\n",
       "      <th>3</th>\n",
       "      <td>7.695571</td>\n",
       "      <td>6.694069</td>\n",
       "    </tr>\n",
       "    <tr>\n",
       "      <th>4</th>\n",
       "      <td>6.316441</td>\n",
       "      <td>3.838964</td>\n",
       "    </tr>\n",
       "  </tbody>\n",
       "</table>\n",
       "</div>"
      ],
      "text/plain": [
       "          Depto 1   Depto 2\n",
       "Cluster                    \n",
       "1        6.271991  7.050926\n",
       "2        6.993243  9.168919\n",
       "3        7.695571  6.694069\n",
       "4        6.316441  3.838964"
      ]
     },
     "metadata": {},
     "output_type": "display_data"
    }
   ],
   "source": [
    "display(puntajes.groupby('Cluster')['Depto 1','Depto 2'].mean())\n",
    "puntaje_cluster = puntajes.groupby('Cluster')['Depto 1','Depto 2'].mean()"
   ]
  },
  {
   "cell_type": "code",
   "execution_count": 917,
   "metadata": {},
   "outputs": [
    {
     "data": {
      "text/plain": [
       "Text(0.5, 1.0, 'Puntaje promedio por cluster')"
      ]
     },
     "execution_count": 917,
     "metadata": {},
     "output_type": "execute_result"
    },
    {
     "data": {
      "image/png": "[encoded data removed]",
      "text/plain": [
       "<Figure size 640x480 with 1 Axes>"
      ]
     },
     "metadata": {},
     "output_type": "display_data"
    }
   ],
   "source": [
    "puntaje_cluster.plot(kind='bar')\n",
    "plt.title('Puntaje promedio por cluster')"
   ]
  }
 ],
 "metadata": {
  "kernelspec": {
   "display_name": "base",
   "language": "python",
   "name": "python3"
  },
  "language_info": {
   "codemirror_mode": {
    "name": "ipython",
    "version": 3
   },
   "file_extension": ".py",
   "mimetype": "text/x-python",
   "name": "python",
   "nbconvert_exporter": "python",
   "pygments_lexer": "ipython3",
   "version": "3.9.13"
  },
  "orig_nbformat": 4
 },
 "nbformat": 4,
 "nbformat_minor": 2
}
